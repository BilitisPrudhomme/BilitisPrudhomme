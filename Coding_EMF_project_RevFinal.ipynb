{
  "nbformat": 4,
  "nbformat_minor": 0,
  "metadata": {
    "colab": {
      "name": "Coding EMF_project_RevFinal.ipynb",
      "provenance": [],
      "authorship_tag": "ABX9TyOHbGv+s0BwquJIezcfRmdl",
      "include_colab_link": true
    },
    "kernelspec": {
      "name": "python3",
      "display_name": "Python 3"
    },
    "language_info": {
      "name": "python"
    }
  },
  "cells": [
    {
      "cell_type": "markdown",
      "metadata": {
        "id": "view-in-github",
        "colab_type": "text"
      },
      "source": [
        "<a href=\"https://colab.research.google.com/github/BilitisPrudhomme/BilitisPrudhomme/blob/main/Coding_EMF_project_RevFinal.ipynb\" target=\"_parent\"><img src=\"https://colab.research.google.com/assets/colab-badge.svg\" alt=\"Open In Colab\"/></a>"
      ]
    },
    {
      "cell_type": "code",
      "metadata": {
        "colab": {
          "base_uri": "https://localhost:8080/"
        },
        "id": "g1VEh9XjiZEZ",
        "outputId": "2e003cb9-a9b7-49b7-b43c-f610c70571a8"
      },
      "source": [
        "# pip is the standard package manager for Python. It allows you to install and manage additional packages that are not part of the Python standard library.\n",
        "!pip install --upgrade gspread"
      ],
      "execution_count": 1,
      "outputs": [
        {
          "output_type": "stream",
          "text": [
            "Collecting gspread\n",
            "  Downloading https://files.pythonhosted.org/packages/df/f0/e345e7159c89b898f183cc40ed9909619475492bb000652d709f395f096a/gspread-3.7.0-py3-none-any.whl\n",
            "Requirement already satisfied, skipping upgrade: google-auth>=1.12.0 in /usr/local/lib/python3.7/dist-packages (from gspread) (1.28.1)\n",
            "Requirement already satisfied, skipping upgrade: google-auth-oauthlib>=0.4.1 in /usr/local/lib/python3.7/dist-packages (from gspread) (0.4.4)\n",
            "Requirement already satisfied, skipping upgrade: six>=1.9.0 in /usr/local/lib/python3.7/dist-packages (from google-auth>=1.12.0->gspread) (1.15.0)\n",
            "Requirement already satisfied, skipping upgrade: rsa<5,>=3.1.4; python_version >= \"3.6\" in /usr/local/lib/python3.7/dist-packages (from google-auth>=1.12.0->gspread) (4.7.2)\n",
            "Requirement already satisfied, skipping upgrade: setuptools>=40.3.0 in /usr/local/lib/python3.7/dist-packages (from google-auth>=1.12.0->gspread) (54.2.0)\n",
            "Requirement already satisfied, skipping upgrade: cachetools<5.0,>=2.0.0 in /usr/local/lib/python3.7/dist-packages (from google-auth>=1.12.0->gspread) (4.2.1)\n",
            "Requirement already satisfied, skipping upgrade: pyasn1-modules>=0.2.1 in /usr/local/lib/python3.7/dist-packages (from google-auth>=1.12.0->gspread) (0.2.8)\n",
            "Requirement already satisfied, skipping upgrade: requests-oauthlib>=0.7.0 in /usr/local/lib/python3.7/dist-packages (from google-auth-oauthlib>=0.4.1->gspread) (1.3.0)\n",
            "Requirement already satisfied, skipping upgrade: pyasn1>=0.1.3 in /usr/local/lib/python3.7/dist-packages (from rsa<5,>=3.1.4; python_version >= \"3.6\"->google-auth>=1.12.0->gspread) (0.4.8)\n",
            "Requirement already satisfied, skipping upgrade: requests>=2.0.0 in /usr/local/lib/python3.7/dist-packages (from requests-oauthlib>=0.7.0->google-auth-oauthlib>=0.4.1->gspread) (2.23.0)\n",
            "Requirement already satisfied, skipping upgrade: oauthlib>=3.0.0 in /usr/local/lib/python3.7/dist-packages (from requests-oauthlib>=0.7.0->google-auth-oauthlib>=0.4.1->gspread) (3.1.0)\n",
            "Requirement already satisfied, skipping upgrade: chardet<4,>=3.0.2 in /usr/local/lib/python3.7/dist-packages (from requests>=2.0.0->requests-oauthlib>=0.7.0->google-auth-oauthlib>=0.4.1->gspread) (3.0.4)\n",
            "Requirement already satisfied, skipping upgrade: idna<3,>=2.5 in /usr/local/lib/python3.7/dist-packages (from requests>=2.0.0->requests-oauthlib>=0.7.0->google-auth-oauthlib>=0.4.1->gspread) (2.10)\n",
            "Requirement already satisfied, skipping upgrade: certifi>=2017.4.17 in /usr/local/lib/python3.7/dist-packages (from requests>=2.0.0->requests-oauthlib>=0.7.0->google-auth-oauthlib>=0.4.1->gspread) (2020.12.5)\n",
            "Requirement already satisfied, skipping upgrade: urllib3!=1.25.0,!=1.25.1,<1.26,>=1.21.1 in /usr/local/lib/python3.7/dist-packages (from requests>=2.0.0->requests-oauthlib>=0.7.0->google-auth-oauthlib>=0.4.1->gspread) (1.24.3)\n",
            "Installing collected packages: gspread\n",
            "  Found existing installation: gspread 3.0.1\n",
            "    Uninstalling gspread-3.0.1:\n",
            "      Successfully uninstalled gspread-3.0.1\n",
            "Successfully installed gspread-3.7.0\n"
          ],
          "name": "stdout"
        }
      ]
    },
    {
      "cell_type": "markdown",
      "metadata": {
        "id": "-BWid1Kiih82"
      },
      "source": [
        "**INSTALLATION DES LIBRAIRIES**"
      ]
    },
    {
      "cell_type": "code",
      "metadata": {
        "id": "ejCqX-XJi2Cu"
      },
      "source": [
        "#Colab is a Python development environment that runs in the browser using Google Cloud, in order to use the Drive API, we must first authenticate and construct an API client.\n",
        "from google.colab import auth\n",
        "auth.authenticate_user()\n",
        "\n",
        "# Use the open-source gspread library for interacting with Google Sheets.\n",
        "import gspread\n",
        "from oauth2client.client import GoogleCredentials\n",
        "\n",
        "gc = gspread.authorize(GoogleCredentials.get_application_default())\n"
      ],
      "execution_count": 5,
      "outputs": []
    },
    {
      "cell_type": "code",
      "metadata": {
        "id": "YQ8j02DtjHEX"
      },
      "source": [
        "# Simply imports the library the current namespace, but rather than using the name pandas , it's instructed to use the name pd instead. This is just so you can do pd.whatever instead of having to type out pandas, samething for matplotlib.\n",
        "# Pandas library. pandas is an open source Python library that provides “high-performance, easy-to-use data structures and data analysis tools.”\n",
        "# Matplotlib is a Python package used for data plotting and visualisation. It is a useful complement to Pandas, and like Pandas, is a very feature-rich library which can produce a large variety of plots, charts, maps, and other visualisations.\n",
        "import pandas as pd"
      ],
      "execution_count": 6,
      "outputs": []
    },
    {
      "cell_type": "code",
      "metadata": {
        "id": "zS0rmuFUjMxG"
      },
      "source": [
        "#Executing the cell above, gspread will interact with the google sheets i choose.\n",
        "wb = gc.open_by_url('https://docs.google.com/spreadsheets/d/1__ZgEvVfi1h5CSKOZ6zTrQyEvGdHxXFeArn_Ej2jy4Y/edit#gid=1298731864')"
      ],
      "execution_count": 7,
      "outputs": []
    },
    {
      "cell_type": "code",
      "metadata": {
        "id": "iVyMlcwnjPVt"
      },
      "source": [
        "#Executing this cell above, gspread will interact with the worksheet with data i need.\n",
        "sheet = wb.worksheet('Appendix A. Primary Standard Occupational Classifications (SOC)')"
      ],
      "execution_count": 8,
      "outputs": []
    },
    {
      "cell_type": "code",
      "metadata": {
        "id": "yE9ELdJZjTuF"
      },
      "source": [
        "#Getting All Values From a Row or a Column\n",
        "data = sheet.get_all_values()\n",
        "\n"
      ],
      "execution_count": 9,
      "outputs": []
    },
    {
      "cell_type": "code",
      "metadata": {
        "id": "XbLZFhNbjWY1"
      },
      "source": [
        "df = pd.DataFrame(data)\n",
        "df.columns = df.iloc[0]\n",
        "df = df.iloc[1:]\n"
      ],
      "execution_count": 10,
      "outputs": []
    },
    {
      "cell_type": "code",
      "metadata": {
        "colab": {
          "base_uri": "https://localhost:8080/",
          "height": 402
        },
        "id": "0WfMU1sEja-1",
        "outputId": "49f28956-e01c-4827-920a-04a44b2a4a9a"
      },
      "source": [
        "#afficher les 538 lignes du jeu de données\n",
        "df.head(538)"
      ],
      "execution_count": 11,
      "outputs": [
        {
          "output_type": "execute_result",
          "data": {
            "text/html": [
              "<div>\n",
              "<style scoped>\n",
              "    .dataframe tbody tr th:only-of-type {\n",
              "        vertical-align: middle;\n",
              "    }\n",
              "\n",
              "    .dataframe tbody tr th {\n",
              "        vertical-align: top;\n",
              "    }\n",
              "\n",
              "    .dataframe thead th {\n",
              "        text-align: right;\n",
              "    }\n",
              "</style>\n",
              "<table border=\"1\" class=\"dataframe\">\n",
              "  <thead>\n",
              "    <tr style=\"text-align: right;\">\n",
              "      <th></th>\n",
              "      <th>Description</th>\n",
              "      <th>SOC</th>\n",
              "      <th>SOC DIVISION</th>\n",
              "      <th>Subjects</th>\n",
              "      <th>AM (uT)</th>\n",
              "      <th>SD (uT)</th>\n",
              "      <th>GM (uT)</th>\n",
              "      <th>GSD</th>\n",
              "      <th>Data Type</th>\n",
              "    </tr>\n",
              "  </thead>\n",
              "  <tbody>\n",
              "    <tr>\n",
              "      <th>1</th>\n",
              "      <td>legislators</td>\n",
              "      <td>1110</td>\n",
              "      <td>Executive, Administrative, and Managerial Occu...</td>\n",
              "      <td>15</td>\n",
              "      <td>0.180</td>\n",
              "      <td>0.061</td>\n",
              "      <td>0.039</td>\n",
              "      <td>1.39</td>\n",
              "      <td>Inferred</td>\n",
              "    </tr>\n",
              "    <tr>\n",
              "      <th>2</th>\n",
              "      <td>chief executives and general administrators</td>\n",
              "      <td>1120</td>\n",
              "      <td>Executive, Administrative, and Managerial Occu...</td>\n",
              "      <td>15</td>\n",
              "      <td>0.180</td>\n",
              "      <td>0.063</td>\n",
              "      <td>0.039</td>\n",
              "      <td>1.40</td>\n",
              "      <td>Raw</td>\n",
              "    </tr>\n",
              "    <tr>\n",
              "      <th>3</th>\n",
              "      <td>judicial, public safety and corrections admini...</td>\n",
              "      <td>1131</td>\n",
              "      <td>Executive, Administrative, and Managerial Occu...</td>\n",
              "      <td>15</td>\n",
              "      <td>0.180</td>\n",
              "      <td>0.061</td>\n",
              "      <td>0.039</td>\n",
              "      <td>1.39</td>\n",
              "      <td>Inferred</td>\n",
              "    </tr>\n",
              "    <tr>\n",
              "      <th>4</th>\n",
              "      <td>human resources program administrators</td>\n",
              "      <td>1132</td>\n",
              "      <td>Executive, Administrative, and Managerial Occu...</td>\n",
              "      <td>15</td>\n",
              "      <td>0.180</td>\n",
              "      <td>0.061</td>\n",
              "      <td>0.039</td>\n",
              "      <td>1.39</td>\n",
              "      <td>Inferred</td>\n",
              "    </tr>\n",
              "    <tr>\n",
              "      <th>5</th>\n",
              "      <td>natural resources program administrators</td>\n",
              "      <td>1133</td>\n",
              "      <td>Executive, Administrative, and Managerial Occu...</td>\n",
              "      <td>15</td>\n",
              "      <td>0.180</td>\n",
              "      <td>0.061</td>\n",
              "      <td>0.039</td>\n",
              "      <td>1.39</td>\n",
              "      <td>Inferred</td>\n",
              "    </tr>\n",
              "    <tr>\n",
              "      <th>...</th>\n",
              "      <td>...</td>\n",
              "      <td>...</td>\n",
              "      <td>...</td>\n",
              "      <td>...</td>\n",
              "      <td>...</td>\n",
              "      <td>...</td>\n",
              "      <td>...</td>\n",
              "      <td>...</td>\n",
              "      <td>...</td>\n",
              "    </tr>\n",
              "    <tr>\n",
              "      <th>534</th>\n",
              "      <td>garage and service station related occupations</td>\n",
              "      <td>8730</td>\n",
              "      <td>Handlers, Equipment Cleaners, Helpers, and Lab...</td>\n",
              "      <td>6</td>\n",
              "      <td>0.236</td>\n",
              "      <td>0.123</td>\n",
              "      <td>0.146</td>\n",
              "      <td>1.68</td>\n",
              "      <td>Raw</td>\n",
              "    </tr>\n",
              "    <tr>\n",
              "      <th>535</th>\n",
              "      <td>parking lot attendants</td>\n",
              "      <td>8740</td>\n",
              "      <td>Handlers, Equipment Cleaners, Helpers, and Lab...</td>\n",
              "      <td>6</td>\n",
              "      <td>0.236</td>\n",
              "      <td>0.112</td>\n",
              "      <td>0.146</td>\n",
              "      <td>1.60</td>\n",
              "      <td>Inferred</td>\n",
              "    </tr>\n",
              "    <tr>\n",
              "      <th>536</th>\n",
              "      <td>hand packers and packagers</td>\n",
              "      <td>8761</td>\n",
              "      <td>Handlers, Equipment Cleaners, Helpers, and Lab...</td>\n",
              "      <td>5</td>\n",
              "      <td>0.363</td>\n",
              "      <td>0.235</td>\n",
              "      <td>0.499</td>\n",
              "      <td>1.94</td>\n",
              "      <td>Raw</td>\n",
              "    </tr>\n",
              "    <tr>\n",
              "      <th>537</th>\n",
              "      <td>manual occupations, not elsewhere classified</td>\n",
              "      <td>8769</td>\n",
              "      <td>Handlers, Equipment Cleaners, Helpers, and Lab...</td>\n",
              "      <td>5</td>\n",
              "      <td>0.360</td>\n",
              "      <td>0.433</td>\n",
              "      <td>1.879</td>\n",
              "      <td>2.58</td>\n",
              "      <td>Raw</td>\n",
              "    </tr>\n",
              "    <tr>\n",
              "      <th>538</th>\n",
              "      <td>military occupations</td>\n",
              "      <td>9100</td>\n",
              "      <td>Military Occupations</td>\n",
              "      <td>4</td>\n",
              "      <td>0.170</td>\n",
              "      <td>0.061</td>\n",
              "      <td>0.037</td>\n",
              "      <td>1.42</td>\n",
              "      <td>Raw</td>\n",
              "    </tr>\n",
              "  </tbody>\n",
              "</table>\n",
              "<p>538 rows × 9 columns</p>\n",
              "</div>"
            ],
            "text/plain": [
              "0                                          Description   SOC  ...   GSD Data Type\n",
              "1                                          legislators  1110  ...  1.39  Inferred\n",
              "2          chief executives and general administrators  1120  ...  1.40       Raw\n",
              "3    judicial, public safety and corrections admini...  1131  ...  1.39  Inferred\n",
              "4               human resources program administrators  1132  ...  1.39  Inferred\n",
              "5             natural resources program administrators  1133  ...  1.39  Inferred\n",
              "..                                                 ...   ...  ...   ...       ...\n",
              "534     garage and service station related occupations  8730  ...  1.68       Raw\n",
              "535                             parking lot attendants  8740  ...  1.60  Inferred\n",
              "536                         hand packers and packagers  8761  ...  1.94       Raw\n",
              "537       manual occupations, not elsewhere classified  8769  ...  2.58       Raw\n",
              "538                               military occupations  9100  ...  1.42       Raw\n",
              "\n",
              "[538 rows x 9 columns]"
            ]
          },
          "metadata": {
            "tags": []
          },
          "execution_count": 11
        }
      ]
    },
    {
      "cell_type": "code",
      "metadata": {
        "colab": {
          "base_uri": "https://localhost:8080/"
        },
        "id": "ZRh2EvtHje70",
        "outputId": "f08f3376-71e4-4d32-ce5d-fe6850fb4b8d"
      },
      "source": [
        "#dimensions : nombre de lignes, nombre de colonnes\n",
        "#la ligne d'en-tête n'est pas comptabilisée\n",
        "#dans le nombre de lignes\n",
        "print(df.shape)"
      ],
      "execution_count": 12,
      "outputs": [
        {
          "output_type": "stream",
          "text": [
            "(538, 9)\n"
          ],
          "name": "stdout"
        }
      ]
    },
    {
      "cell_type": "markdown",
      "metadata": {
        "id": "6eimtaJyjirE"
      },
      "source": [
        "**NETTOYAGE DE DONNÉES**\n"
      ]
    },
    {
      "cell_type": "code",
      "metadata": {
        "id": "qZ_tQ1Lpj9A1"
      },
      "source": [
        "#Quels sont les types de données attendus (int, float, string, boolean)?\n",
        "df['Description'] = df['Description'].astype(str)\n",
        "df['SOC'] = df['SOC'].astype(str)\n",
        "df['SOC DIVISION'] = df['SOC DIVISION'].astype(str)\n",
        "df['Subjects'] = df['Subjects'].astype(int)\n",
        "df['AM (uT)'] = df['AM (uT)'].astype(float)\n",
        "df['SD (uT)'] = df['SD (uT)'].astype(float)\n",
        "df['GM (uT)'] = df['GM (uT)'].astype(float)\n",
        "df['GSD'] = df['GSD'].astype(float)\n",
        "df['Data Type'] = df['Data Type'].astype(str)"
      ],
      "execution_count": 13,
      "outputs": []
    },
    {
      "cell_type": "code",
      "metadata": {
        "colab": {
          "base_uri": "https://localhost:8080/"
        },
        "id": "XTK9HXekkAUs",
        "outputId": "41ce93fe-a3ab-4b95-f327-f5cdcacb6823"
      },
      "source": [
        "#Quelles sont les caractéristiques?\n",
        "#énumération des colonnes\n",
        "print(df.columns)\n",
        "#type de chaque colonne\n",
        "print(df.dtypes)\n"
      ],
      "execution_count": 14,
      "outputs": [
        {
          "output_type": "stream",
          "text": [
            "Index(['Description', 'SOC', 'SOC DIVISION', 'Subjects', 'AM (uT)', 'SD (uT)',\n",
            "       'GM (uT)', 'GSD', 'Data Type'],\n",
            "      dtype='object', name=0)\n",
            "0\n",
            "Description      object\n",
            "SOC              object\n",
            "SOC DIVISION     object\n",
            "Subjects          int64\n",
            "AM (uT)         float64\n",
            "SD (uT)         float64\n",
            "GM (uT)         float64\n",
            "GSD             float64\n",
            "Data Type        object\n",
            "dtype: object\n"
          ],
          "name": "stdout"
        }
      ]
    },
    {
      "cell_type": "code",
      "metadata": {
        "colab": {
          "base_uri": "https://localhost:8080/"
        },
        "id": "H5I23g8-kDrj",
        "outputId": "08b4368d-f229-4704-bbdd-9ea51106870e"
      },
      "source": [
        "#Y a-t-il des valeurs manquantes évidentes (valeurs que la bibliothèque pandas peut détecter) via informations sur les données\n",
        "# Affichage de la colonne ST_NUM\n",
        "print(df['SOC DIVISION'])# Affichage des valeurs nulles\n",
        "print(df['SOC DIVISION'].isnull())\n",
        "#informations sur les données\n",
        "df.info()"
      ],
      "execution_count": 15,
      "outputs": [
        {
          "output_type": "stream",
          "text": [
            "1      Executive, Administrative, and Managerial Occu...\n",
            "2      Executive, Administrative, and Managerial Occu...\n",
            "3      Executive, Administrative, and Managerial Occu...\n",
            "4      Executive, Administrative, and Managerial Occu...\n",
            "5      Executive, Administrative, and Managerial Occu...\n",
            "                             ...                        \n",
            "534    Handlers, Equipment Cleaners, Helpers, and Lab...\n",
            "535    Handlers, Equipment Cleaners, Helpers, and Lab...\n",
            "536    Handlers, Equipment Cleaners, Helpers, and Lab...\n",
            "537    Handlers, Equipment Cleaners, Helpers, and Lab...\n",
            "538                                 Military Occupations\n",
            "Name: SOC DIVISION, Length: 538, dtype: object\n",
            "1      False\n",
            "2      False\n",
            "3      False\n",
            "4      False\n",
            "5      False\n",
            "       ...  \n",
            "534    False\n",
            "535    False\n",
            "536    False\n",
            "537    False\n",
            "538    False\n",
            "Name: SOC DIVISION, Length: 538, dtype: bool\n",
            "<class 'pandas.core.frame.DataFrame'>\n",
            "RangeIndex: 538 entries, 1 to 538\n",
            "Data columns (total 9 columns):\n",
            " #   Column        Non-Null Count  Dtype  \n",
            "---  ------        --------------  -----  \n",
            " 0   Description   538 non-null    object \n",
            " 1   SOC           538 non-null    object \n",
            " 2   SOC DIVISION  538 non-null    object \n",
            " 3   Subjects      538 non-null    int64  \n",
            " 4   AM (uT)       538 non-null    float64\n",
            " 5   SD (uT)       538 non-null    float64\n",
            " 6   GM (uT)       538 non-null    float64\n",
            " 7   GSD           538 non-null    float64\n",
            " 8   Data Type     538 non-null    object \n",
            "dtypes: float64(4), int64(1), object(4)\n",
            "memory usage: 38.0+ KB\n"
          ],
          "name": "stdout"
        }
      ]
    },
    {
      "cell_type": "markdown",
      "metadata": {
        "id": "4FlB21ZqkOtr"
      },
      "source": [
        "**MANIPULATIONS DE DONNÉES**"
      ]
    },
    {
      "cell_type": "code",
      "metadata": {
        "colab": {
          "base_uri": "https://localhost:8080/"
        },
        "id": "EipXQjh1kQ9D",
        "outputId": "62dbc18f-9b98-4fd5-8709-5781a63b8769"
      },
      "source": [
        "#Quelles sont les divisions SOC (Classification professionnelle standard), et combien y en a-t-il d'occupations dans chaque division?\n",
        "#comptage des valeurs\n",
        "print(df['SOC DIVISION'].value_counts())"
      ],
      "execution_count": 16,
      "outputs": [
        {
          "output_type": "stream",
          "text": [
            "Production Working Occupations                                                       75\n",
            "Administrative Support Occupations, Including Clerical                               58\n",
            "Executive, Administrative, and Managerial Occupations                                43\n",
            "Marketing and Sales Occupations                                                      42\n",
            "Service Occupations                                                                  36\n",
            "Teachers, Librarians and Counselors                                                  36\n",
            "Precision Production Occupations                                                     31\n",
            "Construction and Extractive Occupations                                              29\n",
            "Mechanics and Repairers                                                              27\n",
            "Handlers, Equipment Cleaners, Helpers, and Laborers                                  27\n",
            "Agricultural, Forestry, and Fishing Occupations                                      23\n",
            "Engineers, Surveyors, and Architects                                                 18\n",
            "Technologists and Technicians, Except Health                                         17\n",
            "Transportation and Material Moving Occupations                                       17\n",
            "Natural Scientist and Mathematicians                                                 15\n",
            "Social Scientists, Social Workers Religious Workers, and Lawyers                     13\n",
            "Writers, Artist, Entertainers, and Athletes                                          11\n",
            "Registered Nurses, Pharmacists, Dietitians, Therapist, and Physician’s Assistants     8\n",
            "Health Technologists and Technicians                                                  6\n",
            "Health Diagnosing and Treating Practitioners                                          5\n",
            "Military Occupations                                                                  1\n",
            "Name: SOC DIVISION, dtype: int64\n"
          ],
          "name": "stdout"
        }
      ]
    },
    {
      "cell_type": "code",
      "metadata": {
        "colab": {
          "base_uri": "https://localhost:8080/"
        },
        "id": "hmG3xno5kVXT",
        "outputId": "0148f72d-296a-48dc-b3eb-8822e788cf0e"
      },
      "source": [
        "# imprime le nom de la colonne\n",
        "for x in df:\n",
        "  print(x) "
      ],
      "execution_count": 17,
      "outputs": [
        {
          "output_type": "stream",
          "text": [
            "Description\n",
            "SOC\n",
            "SOC DIVISION\n",
            "Subjects\n",
            "AM (uT)\n",
            "SD (uT)\n",
            "GM (uT)\n",
            "GSD\n",
            "Data Type\n"
          ],
          "name": "stdout"
        }
      ]
    },
    {
      "cell_type": "code",
      "metadata": {
        "colab": {
          "base_uri": "https://localhost:8080/"
        },
        "id": "PcuOr-U0kYSD",
        "outputId": "9a3ee79a-abc7-4638-cf5e-77cade789719"
      },
      "source": [
        "#accès à une colonne\n",
        "print(df['Data Type'])"
      ],
      "execution_count": 21,
      "outputs": [
        {
          "output_type": "stream",
          "text": [
            "1      Inferred\n",
            "2           Raw\n",
            "3      Inferred\n",
            "4      Inferred\n",
            "5      Inferred\n",
            "         ...   \n",
            "534         Raw\n",
            "535    Inferred\n",
            "536         Raw\n",
            "537         Raw\n",
            "538         Raw\n",
            "Name: Data Type, Length: 538, dtype: object\n"
          ],
          "name": "stdout"
        }
      ]
    },
    {
      "cell_type": "code",
      "metadata": {
        "colab": {
          "base_uri": "https://localhost:8080/"
        },
        "id": "I-ZVrefYkvDE",
        "outputId": "b587efd0-3a98-4523-bb0d-71f9341675b9"
      },
      "source": [
        "#un type Series est un vecteur, il est possible d'utiliser des indices\n",
        "#3 premières valeurs\n",
        "print(df['SOC DIVISION'][0:3])"
      ],
      "execution_count": 22,
      "outputs": [
        {
          "output_type": "stream",
          "text": [
            "1    Executive, Administrative, and Managerial Occu...\n",
            "2    Executive, Administrative, and Managerial Occu...\n",
            "3    Executive, Administrative, and Managerial Occu...\n",
            "Name: SOC DIVISION, dtype: object\n"
          ],
          "name": "stdout"
        }
      ]
    },
    {
      "cell_type": "code",
      "metadata": {
        "colab": {
          "base_uri": "https://localhost:8080/"
        },
        "id": "jd5Lyz37k1Y6",
        "outputId": "d1aa4f2e-0c76-413d-9d02-c483d1bb282c"
      },
      "source": [
        "#trier les valeurs d'une variable de manière croissante\n",
        "print(df['GM (uT)'].sort_values())"
      ],
      "execution_count": 23,
      "outputs": [
        {
          "output_type": "stream",
          "text": [
            "89        0.000\n",
            "243       0.000\n",
            "241       0.000\n",
            "238       0.000\n",
            "236       0.000\n",
            "         ...   \n",
            "391     211.083\n",
            "382     211.083\n",
            "383     211.083\n",
            "331     593.403\n",
            "371    1147.146\n",
            "Name: GM (uT), Length: 538, dtype: float64\n"
          ],
          "name": "stdout"
        }
      ]
    },
    {
      "cell_type": "markdown",
      "metadata": {
        "id": "DPhINi28k4MC"
      },
      "source": [
        "**IF CONDITION**"
      ]
    },
    {
      "cell_type": "code",
      "metadata": {
        "colab": {
          "base_uri": "https://localhost:8080/",
          "height": 106
        },
        "id": "AnXJvZXUk8bB",
        "outputId": "bcf95890-74f3-47fc-c694-319fc3e01a3a"
      },
      "source": [
        "#Accès au ligne selon une condition\n",
        "df[df['GM (uT)'] > 500]"
      ],
      "execution_count": 24,
      "outputs": [
        {
          "output_type": "execute_result",
          "data": {
            "text/html": [
              "<div>\n",
              "<style scoped>\n",
              "    .dataframe tbody tr th:only-of-type {\n",
              "        vertical-align: middle;\n",
              "    }\n",
              "\n",
              "    .dataframe tbody tr th {\n",
              "        vertical-align: top;\n",
              "    }\n",
              "\n",
              "    .dataframe thead th {\n",
              "        text-align: right;\n",
              "    }\n",
              "</style>\n",
              "<table border=\"1\" class=\"dataframe\">\n",
              "  <thead>\n",
              "    <tr style=\"text-align: right;\">\n",
              "      <th></th>\n",
              "      <th>Description</th>\n",
              "      <th>SOC</th>\n",
              "      <th>SOC DIVISION</th>\n",
              "      <th>Subjects</th>\n",
              "      <th>AM (uT)</th>\n",
              "      <th>SD (uT)</th>\n",
              "      <th>GM (uT)</th>\n",
              "      <th>GSD</th>\n",
              "      <th>Data Type</th>\n",
              "    </tr>\n",
              "  </thead>\n",
              "  <tbody>\n",
              "    <tr>\n",
              "      <th>331</th>\n",
              "      <td>timber cutting and related occupations</td>\n",
              "      <td>5730</td>\n",
              "      <td>Agricultural, Forestry, and Fishing Occupations</td>\n",
              "      <td>9</td>\n",
              "      <td>2.480</td>\n",
              "      <td>7.703</td>\n",
              "      <td>593.403</td>\n",
              "      <td>4.66</td>\n",
              "      <td>Raw</td>\n",
              "    </tr>\n",
              "    <tr>\n",
              "      <th>371</th>\n",
              "      <td>electrical power installers and repairers</td>\n",
              "      <td>6433</td>\n",
              "      <td>Construction and Extractive Occupations</td>\n",
              "      <td>156</td>\n",
              "      <td>3.474</td>\n",
              "      <td>10.731</td>\n",
              "      <td>1147.146</td>\n",
              "      <td>4.34</td>\n",
              "      <td>Raw</td>\n",
              "    </tr>\n",
              "  </tbody>\n",
              "</table>\n",
              "</div>"
            ],
            "text/plain": [
              "0                                  Description   SOC  ...   GSD  Data Type\n",
              "331     timber cutting and related occupations  5730  ...  4.66        Raw\n",
              "371  electrical power installers and repairers  6433  ...  4.34        Raw\n",
              "\n",
              "[2 rows x 9 columns]"
            ]
          },
          "metadata": {
            "tags": []
          },
          "execution_count": 24
        }
      ]
    },
    {
      "cell_type": "markdown",
      "metadata": {
        "id": "ZNdCi7rilCMq"
      },
      "source": [
        "**VISUALISATION avec API MATPLOTLIB:CRÉER DEUX FIGURES**  \n",
        "Quelles est la proportion de données mesurées vs inférées? Comment mes données sont-elles distribuées ? Mon jeu de données contient-ils des points aberrants ? Quelles sont les variations dans la dispersion de plusieurs séries au sein du jeu de données ?"
      ]
    },
    {
      "cell_type": "code",
      "metadata": {
        "colab": {
          "base_uri": "https://localhost:8080/",
          "height": 265
        },
        "id": "ffE6XqQTlYeR",
        "outputId": "02bd72e6-0d28-448f-e5bc-d35419f64c63"
      },
      "source": [
        "import matplotlib.pyplot as plt\n",
        "import numpy as np\n",
        "#diagramme à secteurs - Visualiser la proportion des occupations par types de données: mesurées versus inferrées\n",
        "df['Data Type'].value_counts().plot.pie()"
      ],
      "execution_count": 27,
      "outputs": [
        {
          "output_type": "execute_result",
          "data": {
            "text/plain": [
              "<matplotlib.axes._subplots.AxesSubplot at 0x7f00ab643950>"
            ]
          },
          "metadata": {
            "tags": []
          },
          "execution_count": 27
        },
        {
          "output_type": "display_data",
          "data": {
            "image/png": "[encoded data removed]",
            "text/plain": [
              "<Figure size 432x288 with 1 Axes>"
            ]
          },
          "metadata": {
            "tags": []
          }
        }
      ]
    },
    {
      "cell_type": "code",
      "metadata": {
        "colab": {
          "base_uri": "https://localhost:8080/",
          "height": 300
        },
        "id": "Y2WZnLUttb7U",
        "outputId": "cd796679-a074-48d2-9329-d4e989dee5b1"
      },
      "source": [
        "#scatterplot : Subjects vs. GN (uT)\n",
        "df.plot.scatter(x='Subjects',y='GM (uT)')"
      ],
      "execution_count": 43,
      "outputs": [
        {
          "output_type": "execute_result",
          "data": {
            "text/plain": [
              "<matplotlib.axes._subplots.AxesSubplot at 0x7f00aa1ba990>"
            ]
          },
          "metadata": {
            "tags": []
          },
          "execution_count": 43
        },
        {
          "output_type": "display_data",
          "data": {
            "image/png": "[encoded data removed]",
            "text/plain": [
              "<Figure size 432x288 with 1 Axes>"
            ]
          },
          "metadata": {
            "tags": [],
            "needs_background": "light"
          }
        }
      ]
    },
    {
      "cell_type": "code",
      "metadata": {
        "colab": {
          "base_uri": "https://localhost:8080/",
          "height": 275
        },
        "id": "mj6ZFxlM1Xuz",
        "outputId": "06c4cf8b-7a87-4cb2-b201-a40adbd274a3"
      },
      "source": [
        "#grille à la carte de Kohonen - permet de voir la densité des points ici\n",
        "df.plot.hexbin(x='Subjects',y='GM (uT)',gridsize=25)"
      ],
      "execution_count": 59,
      "outputs": [
        {
          "output_type": "execute_result",
          "data": {
            "text/plain": [
              "<matplotlib.axes._subplots.AxesSubplot at 0x7f00aa3170d0>"
            ]
          },
          "metadata": {
            "tags": []
          },
          "execution_count": 59
        },
        {
          "output_type": "display_data",
          "data": {
            "image/png": "[encoded data removed]",
            "text/plain": [
              "<Figure size 432x288 with 2 Axes>"
            ]
          },
          "metadata": {
            "tags": [],
            "needs_background": "light"
          }
        }
      ]
    },
    {
      "cell_type": "markdown",
      "metadata": {
        "id": "rFX0KZN-utmg"
      },
      "source": [
        "**STATISTIQUES**"
      ]
    },
    {
      "cell_type": "markdown",
      "metadata": {
        "id": "Qox13-tLvYFW"
      },
      "source": [
        "**1) Générer des statistiques descriptives**\n",
        "**Variables numériques**\n",
        "\n",
        "*Les indicateurs statistiques choisis ne sont valables que pour les variables numérique donc j'ai exclus toutes les collonnes ayant des données de type objet"
      ]
    },
    {
      "cell_type": "markdown",
      "metadata": {
        "id": "YCFFof0-whUO"
      },
      "source": [
        "**A.Mesures de tendance centrale: médiane, moyenne**                            \n"
      ]
    },
    {
      "cell_type": "markdown",
      "metadata": {
        "id": "nM8J9VWdxWgd"
      },
      "source": [
        "**B.Mesures de dispersion: étendue (max - min), écart interquartile, écart-type**"
      ]
    },
    {
      "cell_type": "code",
      "metadata": {
        "colab": {
          "base_uri": "https://localhost:8080/"
        },
        "id": "Fip75W7svi1W",
        "outputId": "6146c16b-8120-4a7a-c720-988939722b3b"
      },
      "source": [
        "#description des données de toutes les colonnes saufs celles exclues\n",
        "print(df.describe(exclude='object'))"
      ],
      "execution_count": 44,
      "outputs": [
        {
          "output_type": "stream",
          "text": [
            "0        Subjects     AM (uT)     SD (uT)      GM (uT)         GSD\n",
            "count  538.000000  538.000000  538.000000   538.000000  538.000000\n",
            "mean    16.769517    0.275225    0.305770     6.868658    1.932546\n",
            "std     20.286928    0.324072    0.769217    58.907171    0.705455\n",
            "min      1.000000    0.049000    0.000000     0.000000    1.000000\n",
            "25%      4.250000    0.131250    0.060000     0.013000    1.490000\n",
            "50%      9.000000    0.200000    0.112500     0.075000    1.790000\n",
            "75%     24.000000    0.270000    0.268000     0.726000    2.240000\n",
            "max    192.000000    3.474000   10.731000  1147.146000    5.150000\n"
          ],
          "name": "stdout"
        }
      ]
    },
    {
      "cell_type": "code",
      "metadata": {
        "colab": {
          "base_uri": "https://localhost:8080/"
        },
        "id": "_B7F7cZTvnf2",
        "outputId": "37ea4da3-773f-4b2e-cddd-525fb32b2ed8"
      },
      "source": [
        "#statistique descriptive pour une seule colonne\n",
        "print(df['GM (uT)'].describe())"
      ],
      "execution_count": 45,
      "outputs": [
        {
          "output_type": "stream",
          "text": [
            "count     538.000000\n",
            "mean        6.868658\n",
            "std        58.907171\n",
            "min         0.000000\n",
            "25%         0.013000\n",
            "50%         0.075000\n",
            "75%         0.726000\n",
            "max      1147.146000\n",
            "Name: GM (uT), dtype: float64\n"
          ],
          "name": "stdout"
        }
      ]
    },
    {
      "cell_type": "code",
      "metadata": {
        "colab": {
          "base_uri": "https://localhost:8080/"
        },
        "id": "V6SMG2YZvsZu",
        "outputId": "f48f4da5-a443-40ce-b095-c7aa66f1785c"
      },
      "source": [
        "#statistique descriptive pour une seule colonne\n",
        "print(df['AM (uT)'].describe())"
      ],
      "execution_count": 46,
      "outputs": [
        {
          "output_type": "stream",
          "text": [
            "count    538.000000\n",
            "mean       0.275225\n",
            "std        0.324072\n",
            "min        0.049000\n",
            "25%        0.131250\n",
            "50%        0.200000\n",
            "75%        0.270000\n",
            "max        3.474000\n",
            "Name: AM (uT), dtype: float64\n"
          ],
          "name": "stdout"
        }
      ]
    },
    {
      "cell_type": "code",
      "metadata": {
        "colab": {
          "base_uri": "https://localhost:8080/",
          "height": 286
        },
        "id": "8Xdn7Hkcm1Kg",
        "outputId": "db8cfac1-152c-4f34-ae59-5596fe6d26e3"
      },
      "source": [
        "#comparaison des distributions avec un boxplot de toutes les colonnes avec variable continues et discontinues\n",
        "df.plot(kind='box')"
      ],
      "execution_count": 30,
      "outputs": [
        {
          "output_type": "execute_result",
          "data": {
            "text/plain": [
              "<matplotlib.axes._subplots.AxesSubplot at 0x7f00aac73850>"
            ]
          },
          "metadata": {
            "tags": []
          },
          "execution_count": 30
        },
        {
          "output_type": "display_data",
          "data": {
            "image/png": "[encoded data removed]",
            "text/plain": [
              "<Figure size 432x288 with 1 Axes>"
            ]
          },
          "metadata": {
            "tags": [],
            "needs_background": "light"
          }
        }
      ]
    },
    {
      "cell_type": "code",
      "metadata": {
        "colab": {
          "base_uri": "https://localhost:8080/",
          "height": 269
        },
        "id": "_ASS7mxPnupV",
        "outputId": "11714946-ced9-40f2-ab7a-9b5f303564b9"
      },
      "source": [
        "#comparaison des distributions avec un boxplot des moyennes arithmétiques et géométriques pour les  champs magnétiques moyen pondéré dans le temps.\n",
        "for column in df:\n",
        "    boxplot = df.boxplot(column=['GM (uT)', 'AM (uT)'])\n",
        "  "
      ],
      "execution_count": 53,
      "outputs": [
        {
          "output_type": "display_data",
          "data": {
            "image/png": "[encoded data removed]",
            "text/plain": [
              "<Figure size 432x288 with 1 Axes>"
            ]
          },
          "metadata": {
            "tags": [],
            "needs_background": "light"
          }
        }
      ]
    },
    {
      "cell_type": "markdown",
      "metadata": {
        "id": "rafDjLLpxrYT"
      },
      "source": [
        "**2) Générer des statistiques descriptives Variables Catégorielles**"
      ]
    },
    {
      "cell_type": "markdown",
      "metadata": {
        "id": "ZSK_8d9Ax2IS"
      },
      "source": [
        "**Visualiser la distribution: graphique à barres.**"
      ]
    },
    {
      "cell_type": "code",
      "metadata": {
        "colab": {
          "base_uri": "https://localhost:8080/",
          "height": 339
        },
        "id": "bDQDhPAoyapK",
        "outputId": "6e5eaf4d-6f90-4387-e2d6-19961198abbf"
      },
      "source": [
        " #histogrammes de l'âge selon le Data Type\n",
        "df.hist(column='Subjects',by='Data Type')"
      ],
      "execution_count": 52,
      "outputs": [
        {
          "output_type": "execute_result",
          "data": {
            "text/plain": [
              "array([<matplotlib.axes._subplots.AxesSubplot object at 0x7f00aa0bdf10>,\n",
              "       <matplotlib.axes._subplots.AxesSubplot object at 0x7f00aa36b910>],\n",
              "      dtype=object)"
            ]
          },
          "metadata": {
            "tags": []
          },
          "execution_count": 52
        },
        {
          "output_type": "display_data",
          "data": {
            "image/png": "[encoded data removed]",
            "text/plain": [
              "<Figure size 432x288 with 2 Axes>"
            ]
          },
          "metadata": {
            "tags": [],
            "needs_background": "light"
          }
        }
      ]
    },
    {
      "cell_type": "markdown",
      "metadata": {
        "id": "C9rf7LyfzhHB"
      },
      "source": [
        "**Variable nominale: Comme tendance centrale, on peut seulement définir le mode (valeur la plus commune)**."
      ]
    },
    {
      "cell_type": "markdown",
      "metadata": {
        "id": "d-M0K1tozsTn"
      },
      "source": [
        "**Variable ordinale: Puisque les catégories sont ordonnées, on peut aussi définir la valeur médiane.**"
      ]
    },
    {
      "cell_type": "markdown",
      "metadata": {
        "id": "FF8HIqOhzxvX"
      },
      "source": [
        "**Relation entre deux variables numériques, entre la AM(uT) et la GM (uT)**\n",
        "\n"
      ]
    },
    {
      "cell_type": "code",
      "metadata": {
        "colab": {
          "base_uri": "https://localhost:8080/",
          "height": 296
        },
        "id": "UpC_n8GS0Dl9",
        "outputId": "ce1c0a3c-979e-4343-e76c-d691ff303e4d"
      },
      "source": [
        "#scatterplot : AM (uT) vs. GM (uT)\n",
        "df.plot.scatter(x='GM (uT)',y='AM (uT)')"
      ],
      "execution_count": 54,
      "outputs": [
        {
          "output_type": "execute_result",
          "data": {
            "text/plain": [
              "<matplotlib.axes._subplots.AxesSubplot at 0x7f00aaa2e690>"
            ]
          },
          "metadata": {
            "tags": []
          },
          "execution_count": 54
        },
        {
          "output_type": "display_data",
          "data": {
            "image/png": "[encoded data removed]",
            "text/plain": [
              "<Figure size 432x288 with 1 Axes>"
            ]
          },
          "metadata": {
            "tags": [],
            "needs_background": "light"
          }
        }
      ]
    },
    {
      "cell_type": "markdown",
      "metadata": {
        "id": "YKIVbcX40YjW"
      },
      "source": [
        "**Covariance et corrélation**"
      ]
    },
    {
      "cell_type": "markdown",
      "metadata": {
        "id": "zEE9y_mG08Qd"
      },
      "source": [
        "**ÉCHANTILLONNAGE**\n",
        "Le lien entre la taille de l'échantillon et la confiance que l'on peut accorder à la généralisation des résultats. Dans toutes les enquêtes quantitatives, la taille de l’échantillon est un facteur déterminant pour obtenir des données fiables"
      ]
    },
    {
      "cell_type": "code",
      "metadata": {
        "colab": {
          "base_uri": "https://localhost:8080/",
          "height": 330
        },
        "id": "kOXw7w3Q2H56",
        "outputId": "53aa9b31-cb78-4624-be9c-f36dacb12ef1"
      },
      "source": [
        "#Pingouin for the correlation analysis\n",
        "import numpy as np\n",
        "import pingouin as pg"
      ],
      "execution_count": 60,
      "outputs": [
        {
          "output_type": "error",
          "ename": "ModuleNotFoundError",
          "evalue": "ignored",
          "traceback": [
            "\u001b[0;31m---------------------------------------------------------------------------\u001b[0m",
            "\u001b[0;31mModuleNotFoundError\u001b[0m                       Traceback (most recent call last)",
            "\u001b[0;32m<ipython-input-60-a19e49f9896c>\u001b[0m in \u001b[0;36m<module>\u001b[0;34m()\u001b[0m\n\u001b[1;32m      1\u001b[0m \u001b[0;31m#Pingouin for the correlation analysis\u001b[0m\u001b[0;34m\u001b[0m\u001b[0;34m\u001b[0m\u001b[0;34m\u001b[0m\u001b[0m\n\u001b[1;32m      2\u001b[0m \u001b[0;32mimport\u001b[0m \u001b[0mnumpy\u001b[0m \u001b[0;32mas\u001b[0m \u001b[0mnp\u001b[0m\u001b[0;34m\u001b[0m\u001b[0;34m\u001b[0m\u001b[0m\n\u001b[0;32m----> 3\u001b[0;31m \u001b[0;32mimport\u001b[0m \u001b[0mpingouin\u001b[0m \u001b[0;32mas\u001b[0m \u001b[0mpg\u001b[0m\u001b[0;34m\u001b[0m\u001b[0;34m\u001b[0m\u001b[0m\n\u001b[0m",
            "\u001b[0;31mModuleNotFoundError\u001b[0m: No module named 'pingouin'",
            "",
            "\u001b[0;31m---------------------------------------------------------------------------\u001b[0;32m\nNOTE: If your import is failing due to a missing package, you can\nmanually install dependencies using either !pip or !apt.\n\nTo view examples of installing some common dependencies, click the\n\"Open Examples\" button below.\n\u001b[0;31m---------------------------------------------------------------------------\u001b[0m\n"
          ]
        }
      ]
    }
  ]
}