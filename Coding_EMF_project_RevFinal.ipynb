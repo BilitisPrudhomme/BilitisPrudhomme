{
  "nbformat": 4,
  "nbformat_minor": 0,
  "metadata": {
    "colab": {
      "name": "Coding EMF_project_RevFinal.ipynb",
      "provenance": [],
      "authorship_tag": "ABX9TyOfgdxb4hx8spCCOcF4bK1f",
      "include_colab_link": true
    },
    "kernelspec": {
      "name": "python3",
      "display_name": "Python 3"
    },
    "language_info": {
      "name": "python"
    }
  },
  "cells": [
    {
      "cell_type": "markdown",
      "metadata": {
        "id": "view-in-github",
        "colab_type": "text"
      },
      "source": [
        "<a href=\"https://colab.research.google.com/github/BilitisPrudhomme/BilitisPrudhomme/blob/main/Coding_EMF_project_RevFinal.ipynb\" target=\"_parent\"><img src=\"https://colab.research.google.com/assets/colab-badge.svg\" alt=\"Open In Colab\"/></a>"
      ]
    },
    {
      "cell_type": "code",
      "metadata": {
        "colab": {
          "base_uri": "https://localhost:8080/"
        },
        "id": "g1VEh9XjiZEZ",
        "outputId": "d953ecbb-f8ca-4637-e406-e7dfa312aa17"
      },
      "source": [
        "# pip is the standard package manager for Python. It allows you to install and manage additional packages that are not part of the Python standard library.\n",
        "!pip install --upgrade gspread"
      ],
      "execution_count": null,
      "outputs": [
        {
          "output_type": "stream",
          "text": [
            "Requirement already up-to-date: gspread in /usr/local/lib/python3.7/dist-packages (3.7.0)\n",
            "Requirement already satisfied, skipping upgrade: google-auth-oauthlib>=0.4.1 in /usr/local/lib/python3.7/dist-packages (from gspread) (0.4.4)\n",
            "Requirement already satisfied, skipping upgrade: google-auth>=1.12.0 in /usr/local/lib/python3.7/dist-packages (from gspread) (1.28.1)\n",
            "Requirement already satisfied, skipping upgrade: requests-oauthlib>=0.7.0 in /usr/local/lib/python3.7/dist-packages (from google-auth-oauthlib>=0.4.1->gspread) (1.3.0)\n",
            "Requirement already satisfied, skipping upgrade: setuptools>=40.3.0 in /usr/local/lib/python3.7/dist-packages (from google-auth>=1.12.0->gspread) (54.2.0)\n",
            "Requirement already satisfied, skipping upgrade: six>=1.9.0 in /usr/local/lib/python3.7/dist-packages (from google-auth>=1.12.0->gspread) (1.15.0)\n",
            "Requirement already satisfied, skipping upgrade: cachetools<5.0,>=2.0.0 in /usr/local/lib/python3.7/dist-packages (from google-auth>=1.12.0->gspread) (4.2.1)\n",
            "Requirement already satisfied, skipping upgrade: pyasn1-modules>=0.2.1 in /usr/local/lib/python3.7/dist-packages (from google-auth>=1.12.0->gspread) (0.2.8)\n",
            "Requirement already satisfied, skipping upgrade: rsa<5,>=3.1.4; python_version >= \"3.6\" in /usr/local/lib/python3.7/dist-packages (from google-auth>=1.12.0->gspread) (4.7.2)\n",
            "Requirement already satisfied, skipping upgrade: oauthlib>=3.0.0 in /usr/local/lib/python3.7/dist-packages (from requests-oauthlib>=0.7.0->google-auth-oauthlib>=0.4.1->gspread) (3.1.0)\n",
            "Requirement already satisfied, skipping upgrade: requests>=2.0.0 in /usr/local/lib/python3.7/dist-packages (from requests-oauthlib>=0.7.0->google-auth-oauthlib>=0.4.1->gspread) (2.23.0)\n",
            "Requirement already satisfied, skipping upgrade: pyasn1<0.5.0,>=0.4.6 in /usr/local/lib/python3.7/dist-packages (from pyasn1-modules>=0.2.1->google-auth>=1.12.0->gspread) (0.4.8)\n",
            "Requirement already satisfied, skipping upgrade: idna<3,>=2.5 in /usr/local/lib/python3.7/dist-packages (from requests>=2.0.0->requests-oauthlib>=0.7.0->google-auth-oauthlib>=0.4.1->gspread) (2.10)\n",
            "Requirement already satisfied, skipping upgrade: chardet<4,>=3.0.2 in /usr/local/lib/python3.7/dist-packages (from requests>=2.0.0->requests-oauthlib>=0.7.0->google-auth-oauthlib>=0.4.1->gspread) (3.0.4)\n",
            "Requirement already satisfied, skipping upgrade: urllib3!=1.25.0,!=1.25.1,<1.26,>=1.21.1 in /usr/local/lib/python3.7/dist-packages (from requests>=2.0.0->requests-oauthlib>=0.7.0->google-auth-oauthlib>=0.4.1->gspread) (1.24.3)\n",
            "Requirement already satisfied, skipping upgrade: certifi>=2017.4.17 in /usr/local/lib/python3.7/dist-packages (from requests>=2.0.0->requests-oauthlib>=0.7.0->google-auth-oauthlib>=0.4.1->gspread) (2020.12.5)\n"
          ],
          "name": "stdout"
        }
      ]
    },
    {
      "cell_type": "markdown",
      "metadata": {
        "id": "-BWid1Kiih82"
      },
      "source": [
        "# **INSTALLATION DES LIBRAIRIES**"
      ]
    },
    {
      "cell_type": "code",
      "metadata": {
        "id": "ejCqX-XJi2Cu"
      },
      "source": [
        "#Colab is a Python development environment that runs in the browser using Google Cloud, in order to use the Drive API, we must first authenticate and construct an API client.\n",
        "from google.colab import auth\n",
        "auth.authenticate_user()\n",
        "\n",
        "# Use the open-source gspread library for interacting with Google Sheets.\n",
        "import gspread\n",
        "from oauth2client.client import GoogleCredentials\n",
        "\n",
        "gc = gspread.authorize(GoogleCredentials.get_application_default())\n"
      ],
      "execution_count": null,
      "outputs": []
    },
    {
      "cell_type": "code",
      "metadata": {
        "id": "YQ8j02DtjHEX"
      },
      "source": [
        "# Simply imports the library the current namespace, but rather than using the name pandas , it's instructed to use the name pd instead. This is just so you can do pd.whatever instead of having to type out pandas, samething for matplotlib.\n",
        "# Pandas library. pandas is an open source Python library that provides “high-performance, easy-to-use data structures and data analysis tools.”\n",
        "# Matplotlib is a Python package used for data plotting and visualisation. It is a useful complement to Pandas, and like Pandas, is a very feature-rich library which can produce a large variety of plots, charts, maps, and other visualisations.\n",
        "import pandas as pd"
      ],
      "execution_count": null,
      "outputs": []
    },
    {
      "cell_type": "code",
      "metadata": {
        "id": "zS0rmuFUjMxG"
      },
      "source": [
        "#Executing the cell above, gspread will interact with the google sheets i choose.\n",
        "wb = gc.open_by_url('https://docs.google.com/spreadsheets/d/1__ZgEvVfi1h5CSKOZ6zTrQyEvGdHxXFeArn_Ej2jy4Y/edit#gid=1298731864')"
      ],
      "execution_count": null,
      "outputs": []
    },
    {
      "cell_type": "code",
      "metadata": {
        "id": "iVyMlcwnjPVt"
      },
      "source": [
        "#Executing this cell above, gspread will interact with the worksheet with data i need.\n",
        "sheet = wb.worksheet('Appendix A. Primary Standard Occupational Classifications (SOC)')"
      ],
      "execution_count": null,
      "outputs": []
    },
    {
      "cell_type": "code",
      "metadata": {
        "id": "yE9ELdJZjTuF"
      },
      "source": [
        "#Getting All Values From a Row or a Column\n",
        "data = sheet.get_all_values()\n",
        "\n"
      ],
      "execution_count": null,
      "outputs": []
    },
    {
      "cell_type": "code",
      "metadata": {
        "id": "XbLZFhNbjWY1"
      },
      "source": [
        "df = pd.DataFrame(data)\n",
        "df.columns = df.iloc[0]\n",
        "df = df.iloc[1:]\n"
      ],
      "execution_count": null,
      "outputs": []
    },
    {
      "cell_type": "code",
      "metadata": {
        "colab": {
          "base_uri": "https://localhost:8080/",
          "height": 402
        },
        "id": "0WfMU1sEja-1",
        "outputId": "ac2a0da5-7c4a-4121-8e85-cccac3127b9b"
      },
      "source": [
        "#afficher les 538 lignes du jeu de données\n",
        "df.head(538)"
      ],
      "execution_count": null,
      "outputs": [
        {
          "output_type": "execute_result",
          "data": {
            "text/html": [
              "<div>\n",
              "<style scoped>\n",
              "    .dataframe tbody tr th:only-of-type {\n",
              "        vertical-align: middle;\n",
              "    }\n",
              "\n",
              "    .dataframe tbody tr th {\n",
              "        vertical-align: top;\n",
              "    }\n",
              "\n",
              "    .dataframe thead th {\n",
              "        text-align: right;\n",
              "    }\n",
              "</style>\n",
              "<table border=\"1\" class=\"dataframe\">\n",
              "  <thead>\n",
              "    <tr style=\"text-align: right;\">\n",
              "      <th></th>\n",
              "      <th>Description</th>\n",
              "      <th>SOC</th>\n",
              "      <th>SOC DIVISION</th>\n",
              "      <th>Subjects</th>\n",
              "      <th>AM (uT)</th>\n",
              "      <th>SD (uT)</th>\n",
              "      <th>GM (uT)</th>\n",
              "      <th>GSD</th>\n",
              "      <th>Data Type</th>\n",
              "    </tr>\n",
              "  </thead>\n",
              "  <tbody>\n",
              "    <tr>\n",
              "      <th>1</th>\n",
              "      <td>legislators</td>\n",
              "      <td>1110</td>\n",
              "      <td>Executive, Administrative, and Managerial Occu...</td>\n",
              "      <td>15</td>\n",
              "      <td>0.180</td>\n",
              "      <td>0.061</td>\n",
              "      <td>0.039</td>\n",
              "      <td>1.39</td>\n",
              "      <td>Inferred</td>\n",
              "    </tr>\n",
              "    <tr>\n",
              "      <th>2</th>\n",
              "      <td>chief executives and general administrators</td>\n",
              "      <td>1120</td>\n",
              "      <td>Executive, Administrative, and Managerial Occu...</td>\n",
              "      <td>15</td>\n",
              "      <td>0.180</td>\n",
              "      <td>0.063</td>\n",
              "      <td>0.039</td>\n",
              "      <td>1.40</td>\n",
              "      <td>Raw</td>\n",
              "    </tr>\n",
              "    <tr>\n",
              "      <th>3</th>\n",
              "      <td>judicial, public safety and corrections admini...</td>\n",
              "      <td>1131</td>\n",
              "      <td>Executive, Administrative, and Managerial Occu...</td>\n",
              "      <td>15</td>\n",
              "      <td>0.180</td>\n",
              "      <td>0.061</td>\n",
              "      <td>0.039</td>\n",
              "      <td>1.39</td>\n",
              "      <td>Inferred</td>\n",
              "    </tr>\n",
              "    <tr>\n",
              "      <th>4</th>\n",
              "      <td>human resources program administrators</td>\n",
              "      <td>1132</td>\n",
              "      <td>Executive, Administrative, and Managerial Occu...</td>\n",
              "      <td>15</td>\n",
              "      <td>0.180</td>\n",
              "      <td>0.061</td>\n",
              "      <td>0.039</td>\n",
              "      <td>1.39</td>\n",
              "      <td>Inferred</td>\n",
              "    </tr>\n",
              "    <tr>\n",
              "      <th>5</th>\n",
              "      <td>natural resources program administrators</td>\n",
              "      <td>1133</td>\n",
              "      <td>Executive, Administrative, and Managerial Occu...</td>\n",
              "      <td>15</td>\n",
              "      <td>0.180</td>\n",
              "      <td>0.061</td>\n",
              "      <td>0.039</td>\n",
              "      <td>1.39</td>\n",
              "      <td>Inferred</td>\n",
              "    </tr>\n",
              "    <tr>\n",
              "      <th>...</th>\n",
              "      <td>...</td>\n",
              "      <td>...</td>\n",
              "      <td>...</td>\n",
              "      <td>...</td>\n",
              "      <td>...</td>\n",
              "      <td>...</td>\n",
              "      <td>...</td>\n",
              "      <td>...</td>\n",
              "      <td>...</td>\n",
              "    </tr>\n",
              "    <tr>\n",
              "      <th>534</th>\n",
              "      <td>garage and service station related occupations</td>\n",
              "      <td>8730</td>\n",
              "      <td>Handlers, Equipment Cleaners, Helpers, and Lab...</td>\n",
              "      <td>6</td>\n",
              "      <td>0.236</td>\n",
              "      <td>0.123</td>\n",
              "      <td>0.146</td>\n",
              "      <td>1.68</td>\n",
              "      <td>Raw</td>\n",
              "    </tr>\n",
              "    <tr>\n",
              "      <th>535</th>\n",
              "      <td>parking lot attendants</td>\n",
              "      <td>8740</td>\n",
              "      <td>Handlers, Equipment Cleaners, Helpers, and Lab...</td>\n",
              "      <td>6</td>\n",
              "      <td>0.236</td>\n",
              "      <td>0.112</td>\n",
              "      <td>0.146</td>\n",
              "      <td>1.60</td>\n",
              "      <td>Inferred</td>\n",
              "    </tr>\n",
              "    <tr>\n",
              "      <th>536</th>\n",
              "      <td>hand packers and packagers</td>\n",
              "      <td>8761</td>\n",
              "      <td>Handlers, Equipment Cleaners, Helpers, and Lab...</td>\n",
              "      <td>5</td>\n",
              "      <td>0.363</td>\n",
              "      <td>0.235</td>\n",
              "      <td>0.499</td>\n",
              "      <td>1.94</td>\n",
              "      <td>Raw</td>\n",
              "    </tr>\n",
              "    <tr>\n",
              "      <th>537</th>\n",
              "      <td>manual occupations, not elsewhere classified</td>\n",
              "      <td>8769</td>\n",
              "      <td>Handlers, Equipment Cleaners, Helpers, and Lab...</td>\n",
              "      <td>5</td>\n",
              "      <td>0.360</td>\n",
              "      <td>0.433</td>\n",
              "      <td>1.879</td>\n",
              "      <td>2.58</td>\n",
              "      <td>Raw</td>\n",
              "    </tr>\n",
              "    <tr>\n",
              "      <th>538</th>\n",
              "      <td>military occupations</td>\n",
              "      <td>9100</td>\n",
              "      <td>Military Occupations</td>\n",
              "      <td>4</td>\n",
              "      <td>0.170</td>\n",
              "      <td>0.061</td>\n",
              "      <td>0.037</td>\n",
              "      <td>1.42</td>\n",
              "      <td>Raw</td>\n",
              "    </tr>\n",
              "  </tbody>\n",
              "</table>\n",
              "<p>538 rows × 9 columns</p>\n",
              "</div>"
            ],
            "text/plain": [
              "0                                          Description   SOC  ...   GSD Data Type\n",
              "1                                          legislators  1110  ...  1.39  Inferred\n",
              "2          chief executives and general administrators  1120  ...  1.40       Raw\n",
              "3    judicial, public safety and corrections admini...  1131  ...  1.39  Inferred\n",
              "4               human resources program administrators  1132  ...  1.39  Inferred\n",
              "5             natural resources program administrators  1133  ...  1.39  Inferred\n",
              "..                                                 ...   ...  ...   ...       ...\n",
              "534     garage and service station related occupations  8730  ...  1.68       Raw\n",
              "535                             parking lot attendants  8740  ...  1.60  Inferred\n",
              "536                         hand packers and packagers  8761  ...  1.94       Raw\n",
              "537       manual occupations, not elsewhere classified  8769  ...  2.58       Raw\n",
              "538                               military occupations  9100  ...  1.42       Raw\n",
              "\n",
              "[538 rows x 9 columns]"
            ]
          },
          "metadata": {
            "tags": []
          },
          "execution_count": 60
        }
      ]
    },
    {
      "cell_type": "code",
      "metadata": {
        "colab": {
          "base_uri": "https://localhost:8080/"
        },
        "id": "ZRh2EvtHje70",
        "outputId": "69b17ad0-5acb-4c35-bbcc-19de32796aab"
      },
      "source": [
        "#dimensions : nombre de lignes, nombre de colonnes\n",
        "#la ligne d'en-tête n'est pas comptabilisée\n",
        "#dans le nombre de lignes\n",
        "print(df.shape)"
      ],
      "execution_count": null,
      "outputs": [
        {
          "output_type": "stream",
          "text": [
            "(538, 9)\n"
          ],
          "name": "stdout"
        }
      ]
    },
    {
      "cell_type": "markdown",
      "metadata": {
        "id": "6eimtaJyjirE"
      },
      "source": [
        "# **NETTOYAGE DE DONNÉES**\n"
      ]
    },
    {
      "cell_type": "code",
      "metadata": {
        "id": "qZ_tQ1Lpj9A1"
      },
      "source": [
        "#Quels sont les types de données attendus (int, float, string, boolean)?\n",
        "df['Description'] = df['Description'].astype(str)\n",
        "df['SOC'] = df['SOC'].astype(str)\n",
        "df['SOC DIVISION'] = df['SOC DIVISION'].astype(str)\n",
        "df['Subjects'] = df['Subjects'].astype(int)\n",
        "df['AM (uT)'] = df['AM (uT)'].astype(float)\n",
        "df['SD (uT)'] = df['SD (uT)'].astype(float)\n",
        "df['GM (uT)'] = df['GM (uT)'].astype(float)\n",
        "df['GSD'] = df['GSD'].astype(float)\n",
        "df['Data Type'] = df['Data Type'].astype(str)"
      ],
      "execution_count": null,
      "outputs": []
    },
    {
      "cell_type": "code",
      "metadata": {
        "colab": {
          "base_uri": "https://localhost:8080/"
        },
        "id": "XTK9HXekkAUs",
        "outputId": "a5ee8cef-b6d5-407a-c613-02e31f4eced5"
      },
      "source": [
        "#Quelles sont les caractéristiques?\n",
        "#énumération des colonnes\n",
        "print(df.columns)\n",
        "#type de chaque colonne\n",
        "print(df.dtypes)\n"
      ],
      "execution_count": null,
      "outputs": [
        {
          "output_type": "stream",
          "text": [
            "Index(['Description', 'SOC', 'SOC DIVISION', 'Subjects', 'AM (uT)', 'SD (uT)',\n",
            "       'GM (uT)', 'GSD', 'Data Type'],\n",
            "      dtype='object', name=0)\n",
            "0\n",
            "Description      object\n",
            "SOC              object\n",
            "SOC DIVISION     object\n",
            "Subjects          int64\n",
            "AM (uT)         float64\n",
            "SD (uT)         float64\n",
            "GM (uT)         float64\n",
            "GSD             float64\n",
            "Data Type        object\n",
            "dtype: object\n"
          ],
          "name": "stdout"
        }
      ]
    },
    {
      "cell_type": "code",
      "metadata": {
        "colab": {
          "base_uri": "https://localhost:8080/"
        },
        "id": "H5I23g8-kDrj",
        "outputId": "dd59855b-44d7-40d4-df40-ca244c4ceea4"
      },
      "source": [
        "#Y a-t-il des valeurs manquantes évidentes (valeurs que la bibliothèque pandas peut détecter) via informations sur les données\n",
        "# Affichage de la colonne ST_NUM\n",
        "print(df['SOC DIVISION'])# Affichage des valeurs nulles\n",
        "print(df['SOC DIVISION'].isnull())\n",
        "#informations sur les données\n",
        "df.info()"
      ],
      "execution_count": null,
      "outputs": [
        {
          "output_type": "stream",
          "text": [
            "1      Executive, Administrative, and Managerial Occu...\n",
            "2      Executive, Administrative, and Managerial Occu...\n",
            "3      Executive, Administrative, and Managerial Occu...\n",
            "4      Executive, Administrative, and Managerial Occu...\n",
            "5      Executive, Administrative, and Managerial Occu...\n",
            "                             ...                        \n",
            "534    Handlers, Equipment Cleaners, Helpers, and Lab...\n",
            "535    Handlers, Equipment Cleaners, Helpers, and Lab...\n",
            "536    Handlers, Equipment Cleaners, Helpers, and Lab...\n",
            "537    Handlers, Equipment Cleaners, Helpers, and Lab...\n",
            "538                                 Military Occupations\n",
            "Name: SOC DIVISION, Length: 538, dtype: object\n",
            "1      False\n",
            "2      False\n",
            "3      False\n",
            "4      False\n",
            "5      False\n",
            "       ...  \n",
            "534    False\n",
            "535    False\n",
            "536    False\n",
            "537    False\n",
            "538    False\n",
            "Name: SOC DIVISION, Length: 538, dtype: bool\n",
            "<class 'pandas.core.frame.DataFrame'>\n",
            "RangeIndex: 538 entries, 1 to 538\n",
            "Data columns (total 9 columns):\n",
            " #   Column        Non-Null Count  Dtype  \n",
            "---  ------        --------------  -----  \n",
            " 0   Description   538 non-null    object \n",
            " 1   SOC           538 non-null    object \n",
            " 2   SOC DIVISION  538 non-null    object \n",
            " 3   Subjects      538 non-null    int64  \n",
            " 4   AM (uT)       538 non-null    float64\n",
            " 5   SD (uT)       538 non-null    float64\n",
            " 6   GM (uT)       538 non-null    float64\n",
            " 7   GSD           538 non-null    float64\n",
            " 8   Data Type     538 non-null    object \n",
            "dtypes: float64(4), int64(1), object(4)\n",
            "memory usage: 38.0+ KB\n"
          ],
          "name": "stdout"
        }
      ]
    },
    {
      "cell_type": "markdown",
      "metadata": {
        "id": "4FlB21ZqkOtr"
      },
      "source": [
        "# **MANIPULATIONS DE DONNÉES**"
      ]
    },
    {
      "cell_type": "code",
      "metadata": {
        "colab": {
          "base_uri": "https://localhost:8080/"
        },
        "id": "EipXQjh1kQ9D",
        "outputId": "2eff4667-5a12-4f69-f6cf-7aaeeb4b2a22"
      },
      "source": [
        "#Quelles sont les divisions SOC (Classification professionnelle standard), et combien y en a-t-il d'occupations dans chaque division?\n",
        "#comptage des valeurs\n",
        "print(df['SOC DIVISION'].value_counts())"
      ],
      "execution_count": null,
      "outputs": [
        {
          "output_type": "stream",
          "text": [
            "Production Working Occupations                                                       75\n",
            "Administrative Support Occupations, Including Clerical                               58\n",
            "Executive, Administrative, and Managerial Occupations                                43\n",
            "Marketing and Sales Occupations                                                      42\n",
            "Teachers, Librarians and Counselors                                                  36\n",
            "Service Occupations                                                                  36\n",
            "Precision Production Occupations                                                     31\n",
            "Construction and Extractive Occupations                                              29\n",
            "Mechanics and Repairers                                                              27\n",
            "Handlers, Equipment Cleaners, Helpers, and Laborers                                  27\n",
            "Agricultural, Forestry, and Fishing Occupations                                      23\n",
            "Engineers, Surveyors, and Architects                                                 18\n",
            "Technologists and Technicians, Except Health                                         17\n",
            "Transportation and Material Moving Occupations                                       17\n",
            "Natural Scientist and Mathematicians                                                 15\n",
            "Social Scientists, Social Workers Religious Workers, and Lawyers                     13\n",
            "Writers, Artist, Entertainers, and Athletes                                          11\n",
            "Registered Nurses, Pharmacists, Dietitians, Therapist, and Physician’s Assistants     8\n",
            "Health Technologists and Technicians                                                  6\n",
            "Health Diagnosing and Treating Practitioners                                          5\n",
            "Military Occupations                                                                  1\n",
            "Name: SOC DIVISION, dtype: int64\n"
          ],
          "name": "stdout"
        }
      ]
    },
    {
      "cell_type": "code",
      "metadata": {
        "colab": {
          "base_uri": "https://localhost:8080/"
        },
        "id": "hmG3xno5kVXT",
        "outputId": "b1ae4143-682b-49df-8901-9d7442ca85c6"
      },
      "source": [
        "# imprime le nom de la colonne\n",
        "for x in df:\n",
        "  print(x) "
      ],
      "execution_count": null,
      "outputs": [
        {
          "output_type": "stream",
          "text": [
            "Description\n",
            "SOC\n",
            "SOC DIVISION\n",
            "Subjects\n",
            "AM (uT)\n",
            "SD (uT)\n",
            "GM (uT)\n",
            "GSD\n",
            "Data Type\n"
          ],
          "name": "stdout"
        }
      ]
    },
    {
      "cell_type": "code",
      "metadata": {
        "colab": {
          "base_uri": "https://localhost:8080/"
        },
        "id": "PcuOr-U0kYSD",
        "outputId": "fca4298c-88dc-4cbe-f5c2-09087b1fb015"
      },
      "source": [
        "#accès à une colonne\n",
        "print(df['Data Type'])"
      ],
      "execution_count": null,
      "outputs": [
        {
          "output_type": "stream",
          "text": [
            "1      Inferred\n",
            "2           Raw\n",
            "3      Inferred\n",
            "4      Inferred\n",
            "5      Inferred\n",
            "         ...   \n",
            "534         Raw\n",
            "535    Inferred\n",
            "536         Raw\n",
            "537         Raw\n",
            "538         Raw\n",
            "Name: Data Type, Length: 538, dtype: object\n"
          ],
          "name": "stdout"
        }
      ]
    },
    {
      "cell_type": "code",
      "metadata": {
        "colab": {
          "base_uri": "https://localhost:8080/"
        },
        "id": "I-ZVrefYkvDE",
        "outputId": "160817bb-145f-4f2a-c2f9-ee28131997a2"
      },
      "source": [
        "#un type Series est un vecteur, il est possible d'utiliser des indices\n",
        "#3 premières valeurs\n",
        "print(df['SOC DIVISION'][0:3])"
      ],
      "execution_count": null,
      "outputs": [
        {
          "output_type": "stream",
          "text": [
            "1    Executive, Administrative, and Managerial Occu...\n",
            "2    Executive, Administrative, and Managerial Occu...\n",
            "3    Executive, Administrative, and Managerial Occu...\n",
            "Name: SOC DIVISION, dtype: object\n"
          ],
          "name": "stdout"
        }
      ]
    },
    {
      "cell_type": "code",
      "metadata": {
        "colab": {
          "base_uri": "https://localhost:8080/"
        },
        "id": "jd5Lyz37k1Y6",
        "outputId": "00f64c15-70d7-4cad-893f-1f17e1d143c2"
      },
      "source": [
        "#trier les valeurs d'une variable de manière croissante\n",
        "print(df['GM (uT)'].sort_values())"
      ],
      "execution_count": null,
      "outputs": [
        {
          "output_type": "stream",
          "text": [
            "89        0.000\n",
            "243       0.000\n",
            "241       0.000\n",
            "238       0.000\n",
            "236       0.000\n",
            "         ...   \n",
            "391     211.083\n",
            "382     211.083\n",
            "383     211.083\n",
            "331     593.403\n",
            "371    1147.146\n",
            "Name: GM (uT), Length: 538, dtype: float64\n"
          ],
          "name": "stdout"
        }
      ]
    },
    {
      "cell_type": "markdown",
      "metadata": {
        "id": "DPhINi28k4MC"
      },
      "source": [
        "# **IF CONDITION**"
      ]
    },
    {
      "cell_type": "code",
      "metadata": {
        "colab": {
          "base_uri": "https://localhost:8080/",
          "height": 106
        },
        "id": "AnXJvZXUk8bB",
        "outputId": "45c89b61-88b9-4a4f-d0d8-10cd0c1fc52f"
      },
      "source": [
        "#Accès au ligne selon une condition\n",
        "df[df['GM (uT)'] > 500]"
      ],
      "execution_count": null,
      "outputs": [
        {
          "output_type": "execute_result",
          "data": {
            "text/html": [
              "<div>\n",
              "<style scoped>\n",
              "    .dataframe tbody tr th:only-of-type {\n",
              "        vertical-align: middle;\n",
              "    }\n",
              "\n",
              "    .dataframe tbody tr th {\n",
              "        vertical-align: top;\n",
              "    }\n",
              "\n",
              "    .dataframe thead th {\n",
              "        text-align: right;\n",
              "    }\n",
              "</style>\n",
              "<table border=\"1\" class=\"dataframe\">\n",
              "  <thead>\n",
              "    <tr style=\"text-align: right;\">\n",
              "      <th></th>\n",
              "      <th>Description</th>\n",
              "      <th>SOC</th>\n",
              "      <th>SOC DIVISION</th>\n",
              "      <th>Subjects</th>\n",
              "      <th>AM (uT)</th>\n",
              "      <th>SD (uT)</th>\n",
              "      <th>GM (uT)</th>\n",
              "      <th>GSD</th>\n",
              "      <th>Data Type</th>\n",
              "    </tr>\n",
              "  </thead>\n",
              "  <tbody>\n",
              "    <tr>\n",
              "      <th>331</th>\n",
              "      <td>timber cutting and related occupations</td>\n",
              "      <td>5730</td>\n",
              "      <td>Agricultural, Forestry, and Fishing Occupations</td>\n",
              "      <td>9</td>\n",
              "      <td>2.480</td>\n",
              "      <td>7.703</td>\n",
              "      <td>593.403</td>\n",
              "      <td>4.66</td>\n",
              "      <td>Raw</td>\n",
              "    </tr>\n",
              "    <tr>\n",
              "      <th>371</th>\n",
              "      <td>electrical power installers and repairers</td>\n",
              "      <td>6433</td>\n",
              "      <td>Construction and Extractive Occupations</td>\n",
              "      <td>156</td>\n",
              "      <td>3.474</td>\n",
              "      <td>10.731</td>\n",
              "      <td>1147.146</td>\n",
              "      <td>4.34</td>\n",
              "      <td>Raw</td>\n",
              "    </tr>\n",
              "  </tbody>\n",
              "</table>\n",
              "</div>"
            ],
            "text/plain": [
              "0                                  Description   SOC  ...   GSD  Data Type\n",
              "331     timber cutting and related occupations  5730  ...  4.66        Raw\n",
              "371  electrical power installers and repairers  6433  ...  4.34        Raw\n",
              "\n",
              "[2 rows x 9 columns]"
            ]
          },
          "metadata": {
            "tags": []
          },
          "execution_count": 70
        }
      ]
    },
    {
      "cell_type": "markdown",
      "metadata": {
        "id": "ZNdCi7rilCMq"
      },
      "source": [
        "**VISUALISATION avec API MATPLOTLIB:CRÉER DEUX FIGURES**  \n",
        "Quelles est la proportion de données mesurées vs inférées? Comment mes données sont-elles distribuées ? Mon jeu de données contient-ils des points aberrants ? Quelles sont les variations dans la dispersion de plusieurs séries au sein du jeu de données ?"
      ]
    },
    {
      "cell_type": "code",
      "metadata": {
        "colab": {
          "base_uri": "https://localhost:8080/",
          "height": 265
        },
        "id": "ffE6XqQTlYeR",
        "outputId": "126a697b-4291-425c-f7a6-0e179b0aab60"
      },
      "source": [
        "import matplotlib.pyplot as plt\n",
        "import numpy as np\n",
        "#diagramme à secteurs - Visualiser la proportion des occupations par types de données: mesurées versus inferrées\n",
        "df['Data Type'].value_counts().plot.pie()"
      ],
      "execution_count": null,
      "outputs": [
        {
          "output_type": "execute_result",
          "data": {
            "text/plain": [
              "<matplotlib.axes._subplots.AxesSubplot at 0x7f7c14bf9050>"
            ]
          },
          "metadata": {
            "tags": []
          },
          "execution_count": 71
        },
        {
          "output_type": "display_data",
          "data": {
            "image/png": "[encoded data removed]",
            "text/plain": [
              "<Figure size 432x288 with 1 Axes>"
            ]
          },
          "metadata": {
            "tags": []
          }
        }
      ]
    },
    {
      "cell_type": "code",
      "metadata": {
        "colab": {
          "base_uri": "https://localhost:8080/",
          "height": 299
        },
        "id": "Y2WZnLUttb7U",
        "outputId": "df5d1d29-5e59-4e4a-8217-ac827e27ba8b"
      },
      "source": [
        "#scatterplot : SOC vs. Subjects\n",
        "df.plot.scatter(x='SOC',y='Subjects')"
      ],
      "execution_count": null,
      "outputs": [
        {
          "output_type": "execute_result",
          "data": {
            "text/plain": [
              "<matplotlib.axes._subplots.AxesSubplot at 0x7f7c14b8eb90>"
            ]
          },
          "metadata": {
            "tags": []
          },
          "execution_count": 72
        },
        {
          "output_type": "display_data",
          "data": {
            "image/png": "[encoded data removed]",
            "text/plain": [
              "<Figure size 432x288 with 1 Axes>"
            ]
          },
          "metadata": {
            "tags": [],
            "needs_background": "light"
          }
        }
      ]
    },
    {
      "cell_type": "code",
      "metadata": {
        "colab": {
          "base_uri": "https://localhost:8080/",
          "height": 275
        },
        "id": "mj6ZFxlM1Xuz",
        "outputId": "ce7f600d-5748-4bfb-c9f1-0a13054ce8fc"
      },
      "source": [
        "#grille à la carte de Kohonen - permet de voir la densité des points ici\n",
        "df.plot.hexbin(x='Subjects',y='GM (uT)',gridsize=25)"
      ],
      "execution_count": null,
      "outputs": [
        {
          "output_type": "execute_result",
          "data": {
            "text/plain": [
              "<matplotlib.axes._subplots.AxesSubplot at 0x7f7c146b8050>"
            ]
          },
          "metadata": {
            "tags": []
          },
          "execution_count": 73
        },
        {
          "output_type": "display_data",
          "data": {
            "image/png": "[encoded data removed]",
            "text/plain": [
              "<Figure size 432x288 with 2 Axes>"
            ]
          },
          "metadata": {
            "tags": [],
            "needs_background": "light"
          }
        }
      ]
    },
    {
      "cell_type": "markdown",
      "metadata": {
        "id": "ZSK_8d9Ax2IS"
      },
      "source": [
        "**Visualiser la distribution: graphique à barres.**"
      ]
    },
    {
      "cell_type": "code",
      "metadata": {
        "colab": {
          "base_uri": "https://localhost:8080/",
          "height": 339
        },
        "id": "bDQDhPAoyapK",
        "outputId": "74e54e72-2f7e-4c75-c7ae-6517e24d89f8"
      },
      "source": [
        " #histogrammes du nombre du Subjects selon le Data Type\n",
        "df.hist(column='Subjects',by='Data Type')"
      ],
      "execution_count": null,
      "outputs": [
        {
          "output_type": "execute_result",
          "data": {
            "text/plain": [
              "array([<matplotlib.axes._subplots.AxesSubplot object at 0x7f7c146a3990>,\n",
              "       <matplotlib.axes._subplots.AxesSubplot object at 0x7f7c145e5310>],\n",
              "      dtype=object)"
            ]
          },
          "metadata": {
            "tags": []
          },
          "execution_count": 74
        },
        {
          "output_type": "display_data",
          "data": {
            "image/png": "[encoded data removed]",
            "text/plain": [
              "<Figure size 432x288 with 2 Axes>"
            ]
          },
          "metadata": {
            "tags": [],
            "needs_background": "light"
          }
        }
      ]
    },
    {
      "cell_type": "markdown",
      "metadata": {
        "id": "CyNWbTOnti0k"
      },
      "source": [
        "# **MODÈLE DESCRIPTIF** \n",
        "** Selon ICNIRP,  les Limites d'exposition aux champs électriques de 60 Hz pour les travailleurs sont de 1000 (uT).**\n",
        "\n",
        "Mon modèle DESCRIPTIF va donc s'intéresser aux occupations SOC ayant une valeurs aberrantes comme moyenne gémométrique de l'exposition moyenne quotidienne à un champs magnétique en micro Tesla (uT) d'un employé dans un milieu de travail exposé aux champs électromagnétiques à fréquences industrielles 50-60 hertz (Différents milieux industriels) \n",
        "\n",
        "Sources:\n",
        "ICNIRP. Guidelines for limiting exposure to time-varying electric and magnetic fields (1 Hz to 100 kHz)This link will redirect you to an external site.. [PDF] International Commission on Non-Ionizing Radiation Protection. 2010.\n"
      ]
    },
    {
      "cell_type": "code",
      "metadata": {
        "colab": {
          "base_uri": "https://localhost:8080/"
        },
        "id": "YpYy8MI2vpcj",
        "outputId": "325bfe15-cce5-491b-b85a-c15e45695f39"
      },
      "source": [
        "#Accès au ligne selon une condition\n",
        "df[df['GM (uT)'] >= 1000]"
      ],
      "execution_count": null,
      "outputs": [
        {
          "output_type": "execute_result",
          "data": {
            "text/html": [
              "<div>\n",
              "<style scoped>\n",
              "    .dataframe tbody tr th:only-of-type {\n",
              "        vertical-align: middle;\n",
              "    }\n",
              "\n",
              "    .dataframe tbody tr th {\n",
              "        vertical-align: top;\n",
              "    }\n",
              "\n",
              "    .dataframe thead th {\n",
              "        text-align: right;\n",
              "    }\n",
              "</style>\n",
              "<table border=\"1\" class=\"dataframe\">\n",
              "  <thead>\n",
              "    <tr style=\"text-align: right;\">\n",
              "      <th></th>\n",
              "      <th>Description</th>\n",
              "      <th>SOC</th>\n",
              "      <th>SOC DIVISION</th>\n",
              "      <th>Subjects</th>\n",
              "      <th>AM (uT)</th>\n",
              "      <th>SD (uT)</th>\n",
              "      <th>GM (uT)</th>\n",
              "      <th>GSD</th>\n",
              "      <th>Data Type</th>\n",
              "    </tr>\n",
              "  </thead>\n",
              "  <tbody>\n",
              "    <tr>\n",
              "      <th>371</th>\n",
              "      <td>electrical power installers and repairers</td>\n",
              "      <td>6433</td>\n",
              "      <td>Construction and Extractive Occupations</td>\n",
              "      <td>156</td>\n",
              "      <td>3.474</td>\n",
              "      <td>10.731</td>\n",
              "      <td>1147.146</td>\n",
              "      <td>4.34</td>\n",
              "      <td>Raw</td>\n",
              "    </tr>\n",
              "  </tbody>\n",
              "</table>\n",
              "</div>"
            ],
            "text/plain": [
              "0                                  Description   SOC  ...   GSD  Data Type\n",
              "371  electrical power installers and repairers  6433  ...  4.34        Raw\n",
              "\n",
              "[1 rows x 9 columns]"
            ]
          },
          "metadata": {
            "tags": []
          },
          "execution_count": 28
        }
      ]
    },
    {
      "cell_type": "markdown",
      "metadata": {
        "id": "rFX0KZN-utmg"
      },
      "source": [
        "# **STATISTIQUES DESCRIPTIVES**"
      ]
    },
    {
      "cell_type": "markdown",
      "metadata": {
        "id": "Qox13-tLvYFW"
      },
      "source": [
        "**1) Générer des statistiques descriptives**\n",
        "**Variables numériques**\n",
        "\n",
        "*Les indicateurs statistiques choisis ne sont valables que pour les variables numérique donc j'ai exclus toutes les collonnes ayant des données de type objet"
      ]
    },
    {
      "cell_type": "markdown",
      "metadata": {
        "id": "YCFFof0-whUO"
      },
      "source": [
        "**A.Mesures de tendance centrale: médiane, moyenne**                            \n"
      ]
    },
    {
      "cell_type": "markdown",
      "metadata": {
        "id": "nM8J9VWdxWgd"
      },
      "source": [
        "**B.Mesures de dispersion: étendue (max - min), écart interquartile, écart-type**"
      ]
    },
    {
      "cell_type": "code",
      "metadata": {
        "colab": {
          "base_uri": "https://localhost:8080/"
        },
        "id": "Fip75W7svi1W",
        "outputId": "8b5269af-5c57-4e1d-c451-46462697b3c8"
      },
      "source": [
        "#description des données de toutes les colonnes saufs celles exclues\n",
        "print(df.describe(exclude='object'))"
      ],
      "execution_count": null,
      "outputs": [
        {
          "output_type": "stream",
          "text": [
            "0        Subjects     AM (uT)     SD (uT)      GM (uT)         GSD\n",
            "count  538.000000  538.000000  538.000000   538.000000  538.000000\n",
            "mean    16.769517    0.275225    0.305770     6.868658    1.932546\n",
            "std     20.286928    0.324072    0.769217    58.907171    0.705455\n",
            "min      1.000000    0.049000    0.000000     0.000000    1.000000\n",
            "25%      4.250000    0.131250    0.060000     0.013000    1.490000\n",
            "50%      9.000000    0.200000    0.112500     0.075000    1.790000\n",
            "75%     24.000000    0.270000    0.268000     0.726000    2.240000\n",
            "max    192.000000    3.474000   10.731000  1147.146000    5.150000\n"
          ],
          "name": "stdout"
        }
      ]
    },
    {
      "cell_type": "code",
      "metadata": {
        "colab": {
          "base_uri": "https://localhost:8080/"
        },
        "id": "_B7F7cZTvnf2",
        "outputId": "607268ed-3e87-49eb-cbf8-e96ba77ab492"
      },
      "source": [
        "#statistique descriptive pour une seule colonne\n",
        "print(df['GM (uT)'].describe())"
      ],
      "execution_count": null,
      "outputs": [
        {
          "output_type": "stream",
          "text": [
            "count     538.000000\n",
            "mean        6.868658\n",
            "std        58.907171\n",
            "min         0.000000\n",
            "25%         0.013000\n",
            "50%         0.075000\n",
            "75%         0.726000\n",
            "max      1147.146000\n",
            "Name: GM (uT), dtype: float64\n"
          ],
          "name": "stdout"
        }
      ]
    },
    {
      "cell_type": "code",
      "metadata": {
        "colab": {
          "base_uri": "https://localhost:8080/"
        },
        "id": "V6SMG2YZvsZu",
        "outputId": "a54bf85e-dffe-4ca0-ed30-8ba1a40b9450"
      },
      "source": [
        "#statistique descriptive pour une seule colonne\n",
        "print(df['AM (uT)'].describe())"
      ],
      "execution_count": null,
      "outputs": [
        {
          "output_type": "stream",
          "text": [
            "count    538.000000\n",
            "mean       0.275225\n",
            "std        0.324072\n",
            "min        0.049000\n",
            "25%        0.131250\n",
            "50%        0.200000\n",
            "75%        0.270000\n",
            "max        3.474000\n",
            "Name: AM (uT), dtype: float64\n"
          ],
          "name": "stdout"
        }
      ]
    },
    {
      "cell_type": "code",
      "metadata": {
        "colab": {
          "base_uri": "https://localhost:8080/"
        },
        "id": "8Xdn7Hkcm1Kg",
        "outputId": "ccd8b196-b899-4283-97cb-22a5a7531926"
      },
      "source": [
        "#comparaison des distributions avec un boxplot de toutes les colonnes avec variable continues et discontinues\n",
        "df.plot(kind='box')"
      ],
      "execution_count": null,
      "outputs": [
        {
          "output_type": "execute_result",
          "data": {
            "text/plain": [
              "<matplotlib.axes._subplots.AxesSubplot at 0x7f7c27cd0ad0>"
            ]
          },
          "metadata": {
            "tags": []
          },
          "execution_count": 32
        },
        {
          "output_type": "display_data",
          "data": {
            "image/png": "[encoded data removed]",
            "text/plain": [
              "<Figure size 432x288 with 1 Axes>"
            ]
          },
          "metadata": {
            "tags": [],
            "needs_background": "light"
          }
        }
      ]
    },
    {
      "cell_type": "code",
      "metadata": {
        "colab": {
          "base_uri": "https://localhost:8080/"
        },
        "id": "_ASS7mxPnupV",
        "outputId": "d99d8b35-e168-489b-db53-7601b7b08e92"
      },
      "source": [
        "#comparaison des distributions avec un boxplot des moyennes arithmétiques et géométriques pour les  champs magnétiques moyen pondéré dans le temps.\n",
        "for column in df:\n",
        "    boxplot = df.boxplot(column=['GM (uT)', 'AM (uT)'])\n",
        "  "
      ],
      "execution_count": null,
      "outputs": [
        {
          "output_type": "display_data",
          "data": {
            "image/png": "[encoded data removed]",
            "text/plain": [
              "<Figure size 432x288 with 1 Axes>"
            ]
          },
          "metadata": {
            "tags": [],
            "needs_background": "light"
          }
        }
      ]
    },
    {
      "cell_type": "markdown",
      "metadata": {
        "id": "cks082zGUNY1"
      },
      "source": [
        "**Résulats pour le choix entre moyenne arithmétique ou moyenne Géométrique pour le suivi de l'exposition Champs magnétique TWA en micro Tesla (uT), La relation attendue est A.M. > G.M. **: Médiane de la GM (uT) 50% 0.075000 est < que la Médiane de la AM (uT) ce qui est normal dans une distribution log-normale, c'est ce qui est attendu.  "
      ]
    },
    {
      "cell_type": "markdown",
      "metadata": {
        "id": "rafDjLLpxrYT"
      },
      "source": [
        "**2) Générer des statistiques descriptives Variables Catégorielles**"
      ]
    },
    {
      "cell_type": "markdown",
      "metadata": {
        "id": "C9rf7LyfzhHB"
      },
      "source": [
        "**Variable nominale: Comme tendance centrale, on peut seulement définir le mode (valeur la plus commune)**."
      ]
    },
    {
      "cell_type": "markdown",
      "metadata": {
        "id": "d-M0K1tozsTn"
      },
      "source": [
        "**Variable ordinale: Puisque les catégories sont ordonnées, on peut aussi définir la valeur médiane.**"
      ]
    },
    {
      "cell_type": "markdown",
      "metadata": {
        "id": "Z4VesMkmVojK"
      },
      "source": [
        "# **STATISTIQUES RÉCAPITULATIVES** : \n",
        "\n",
        "\n",
        "\n",
        "\n"
      ]
    },
    {
      "cell_type": "markdown",
      "metadata": {
        "id": "YKIVbcX40YjW"
      },
      "source": [
        "**Covariance et corrélation**"
      ]
    },
    {
      "cell_type": "code",
      "metadata": {
        "colab": {
          "base_uri": "https://localhost:8080/"
        },
        "id": "kOXw7w3Q2H56",
        "outputId": "ce036d52-d58f-4d80-d2fb-6e8d17b486a5"
      },
      "source": [
        "#Pingouin for the correlation analysis\n",
        "!pip install -- Pingouin\n",
        "import numpy as np\n",
        "import pingouin as pg"
      ],
      "execution_count": null,
      "outputs": [
        {
          "output_type": "stream",
          "text": [
            "Collecting Pingouin\n",
            "\u001b[?25l  Downloading https://files.pythonhosted.org/packages/5c/40/7736d4fcb8dbb6758a1e9ca51754e60ff4efe5d7c9b5bb6166cff538513d/pingouin-0.3.11.tar.gz (204kB)\n",
            "\r\u001b[K     |█▋                              | 10kB 15.5MB/s eta 0:00:01\r\u001b[K     |███▏                            | 20kB 21.8MB/s eta 0:00:01\r\u001b[K     |████▉                           | 30kB 26.8MB/s eta 0:00:01\r\u001b[K     |██████▍                         | 40kB 29.9MB/s eta 0:00:01\r\u001b[K     |████████                        | 51kB 32.2MB/s eta 0:00:01\r\u001b[K     |█████████▋                      | 61kB 19.0MB/s eta 0:00:01\r\u001b[K     |███████████▏                    | 71kB 18.1MB/s eta 0:00:01\r\u001b[K     |████████████▉                   | 81kB 16.1MB/s eta 0:00:01\r\u001b[K     |██████████████▍                 | 92kB 16.8MB/s eta 0:00:01\r\u001b[K     |████████████████                | 102kB 18.0MB/s eta 0:00:01\r\u001b[K     |█████████████████▋              | 112kB 18.0MB/s eta 0:00:01\r\u001b[K     |███████████████████▎            | 122kB 18.0MB/s eta 0:00:01\r\u001b[K     |████████████████████▉           | 133kB 18.0MB/s eta 0:00:01\r\u001b[K     |██████████████████████▍         | 143kB 18.0MB/s eta 0:00:01\r\u001b[K     |████████████████████████        | 153kB 18.0MB/s eta 0:00:01\r\u001b[K     |█████████████████████████▋      | 163kB 18.0MB/s eta 0:00:01\r\u001b[K     |███████████████████████████▎    | 174kB 18.0MB/s eta 0:00:01\r\u001b[K     |████████████████████████████▉   | 184kB 18.0MB/s eta 0:00:01\r\u001b[K     |██████████████████████████████▌ | 194kB 18.0MB/s eta 0:00:01\r\u001b[K     |████████████████████████████████| 204kB 18.0MB/s \n",
            "\u001b[?25hRequirement already satisfied: numpy>=1.15 in /usr/local/lib/python3.7/dist-packages (from Pingouin) (1.19.5)\n",
            "Requirement already satisfied: scipy>=1.3 in /usr/local/lib/python3.7/dist-packages (from Pingouin) (1.4.1)\n",
            "Requirement already satisfied: pandas>=0.24 in /usr/local/lib/python3.7/dist-packages (from Pingouin) (1.1.5)\n",
            "Requirement already satisfied: matplotlib>=3.0.2 in /usr/local/lib/python3.7/dist-packages (from Pingouin) (3.2.2)\n",
            "Requirement already satisfied: seaborn>=0.9.0 in /usr/local/lib/python3.7/dist-packages (from Pingouin) (0.11.1)\n",
            "Requirement already satisfied: statsmodels>=0.10.0 in /usr/local/lib/python3.7/dist-packages (from Pingouin) (0.10.2)\n",
            "Requirement already satisfied: scikit-learn in /usr/local/lib/python3.7/dist-packages (from Pingouin) (0.22.2.post1)\n",
            "Collecting pandas_flavor>=0.1.2\n",
            "  Downloading https://files.pythonhosted.org/packages/9a/57/7fbcff4c0961ed190ac5fcb0bd8194152ee1ee6487edf64fdbae16e2bc4b/pandas_flavor-0.2.0-py2.py3-none-any.whl\n",
            "Collecting outdated\n",
            "  Downloading https://files.pythonhosted.org/packages/fd/f6/95588d496e518355c33b389222c99069b1c6f2c046be64f400072fdc7cda/outdated-0.2.1-py3-none-any.whl\n",
            "Requirement already satisfied: tabulate in /usr/local/lib/python3.7/dist-packages (from Pingouin) (0.8.9)\n",
            "Requirement already satisfied: pytz>=2017.2 in /usr/local/lib/python3.7/dist-packages (from pandas>=0.24->Pingouin) (2018.9)\n",
            "Requirement already satisfied: python-dateutil>=2.7.3 in /usr/local/lib/python3.7/dist-packages (from pandas>=0.24->Pingouin) (2.8.1)\n",
            "Requirement already satisfied: cycler>=0.10 in /usr/local/lib/python3.7/dist-packages (from matplotlib>=3.0.2->Pingouin) (0.10.0)\n",
            "Requirement already satisfied: pyparsing!=2.0.4,!=2.1.2,!=2.1.6,>=2.0.1 in /usr/local/lib/python3.7/dist-packages (from matplotlib>=3.0.2->Pingouin) (2.4.7)\n",
            "Requirement already satisfied: kiwisolver>=1.0.1 in /usr/local/lib/python3.7/dist-packages (from matplotlib>=3.0.2->Pingouin) (1.3.1)\n",
            "Requirement already satisfied: patsy>=0.4.0 in /usr/local/lib/python3.7/dist-packages (from statsmodels>=0.10.0->Pingouin) (0.5.1)\n",
            "Requirement already satisfied: joblib>=0.11 in /usr/local/lib/python3.7/dist-packages (from scikit-learn->Pingouin) (1.0.1)\n",
            "Requirement already satisfied: xarray in /usr/local/lib/python3.7/dist-packages (from pandas_flavor>=0.1.2->Pingouin) (0.15.1)\n",
            "Collecting littleutils\n",
            "  Downloading https://files.pythonhosted.org/packages/4e/b1/bb4e06f010947d67349f863b6a2ad71577f85590180a935f60543f622652/littleutils-0.2.2.tar.gz\n",
            "Requirement already satisfied: requests in /usr/local/lib/python3.7/dist-packages (from outdated->Pingouin) (2.23.0)\n",
            "Requirement already satisfied: six>=1.5 in /usr/local/lib/python3.7/dist-packages (from python-dateutil>=2.7.3->pandas>=0.24->Pingouin) (1.15.0)\n",
            "Requirement already satisfied: setuptools>=41.2 in /usr/local/lib/python3.7/dist-packages (from xarray->pandas_flavor>=0.1.2->Pingouin) (54.2.0)\n",
            "Requirement already satisfied: certifi>=2017.4.17 in /usr/local/lib/python3.7/dist-packages (from requests->outdated->Pingouin) (2020.12.5)\n",
            "Requirement already satisfied: urllib3!=1.25.0,!=1.25.1,<1.26,>=1.21.1 in /usr/local/lib/python3.7/dist-packages (from requests->outdated->Pingouin) (1.24.3)\n",
            "Requirement already satisfied: chardet<4,>=3.0.2 in /usr/local/lib/python3.7/dist-packages (from requests->outdated->Pingouin) (3.0.4)\n",
            "Requirement already satisfied: idna<3,>=2.5 in /usr/local/lib/python3.7/dist-packages (from requests->outdated->Pingouin) (2.10)\n",
            "Building wheels for collected packages: Pingouin, littleutils\n",
            "  Building wheel for Pingouin (setup.py) ... \u001b[?25l\u001b[?25hdone\n",
            "  Created wheel for Pingouin: filename=pingouin-0.3.11-cp37-none-any.whl size=203325 sha256=6cefdacf627cf5eabb67f603124a55221c44cad0bcfd1c66cb4c2ff2b275da25\n",
            "  Stored in directory: /root/.cache/pip/wheels/79/46/ef/e377eb45c86f278f660d31c4a30e3f733063d28c89462f1aea\n",
            "  Building wheel for littleutils (setup.py) ... \u001b[?25l\u001b[?25hdone\n",
            "  Created wheel for littleutils: filename=littleutils-0.2.2-cp37-none-any.whl size=7051 sha256=8c6884e115a62964bf2bbc463817a5cc114719d4e3351f97b09c3b1adaadf16d\n",
            "  Stored in directory: /root/.cache/pip/wheels/53/16/9f/ac67d15c40243754fd73f620e1b9b6dedc20492ecc19a2bae1\n",
            "Successfully built Pingouin littleutils\n",
            "Installing collected packages: pandas-flavor, littleutils, outdated, Pingouin\n",
            "Successfully installed Pingouin-0.3.11 littleutils-0.2.2 outdated-0.2.1 pandas-flavor-0.2.0\n"
          ],
          "name": "stdout"
        }
      ]
    },
    {
      "cell_type": "markdown",
      "metadata": {
        "id": "FF8HIqOhzxvX"
      },
      "source": [
        "**Vérifier si la relation linéaire entre les variables AM(uT) et la GM (uT), s'il la corrélation est démontrée, on \n"
      ]
    },
    {
      "cell_type": "code",
      "metadata": {
        "colab": {
          "base_uri": "https://localhost:8080/",
          "height": 296
        },
        "id": "UpC_n8GS0Dl9",
        "outputId": "7dbe9f43-c8f4-46a6-b8a0-2727f79d0190"
      },
      "source": [
        "#scatterplot : AM (uT) vs. GM (uT)\n",
        "df.plot.scatter(x='GM (uT)',y='AM (uT)')"
      ],
      "execution_count": null,
      "outputs": [
        {
          "output_type": "execute_result",
          "data": {
            "text/plain": [
              "<matplotlib.axes._subplots.AxesSubplot at 0x7f7c279cf1d0>"
            ]
          },
          "metadata": {
            "tags": []
          },
          "execution_count": 35
        },
        {
          "output_type": "display_data",
          "data": {
            "image/png": "[encoded data removed]",
            "text/plain": [
              "<Figure size 432x288 with 1 Axes>"
            ]
          },
          "metadata": {
            "tags": [],
            "needs_background": "light"
          }
        }
      ]
    },
    {
      "cell_type": "code",
      "metadata": {
        "colab": {
          "base_uri": "https://localhost:8080/",
          "height": 77
        },
        "id": "F1BTSOeA3swy",
        "outputId": "c817607b-1840-4c1e-92dc-641f3d4208b4"
      },
      "source": [
        "from pingouin import corr\n",
        "# Test de corrélatio de Person, HO: pas de corrélation entre les variables si r= 0\n",
        "corr(df['AM (uT)'], df['GM (uT)'])"
      ],
      "execution_count": null,
      "outputs": [
        {
          "output_type": "execute_result",
          "data": {
            "text/html": [
              "<div>\n",
              "<style scoped>\n",
              "    .dataframe tbody tr th:only-of-type {\n",
              "        vertical-align: middle;\n",
              "    }\n",
              "\n",
              "    .dataframe tbody tr th {\n",
              "        vertical-align: top;\n",
              "    }\n",
              "\n",
              "    .dataframe thead th {\n",
              "        text-align: right;\n",
              "    }\n",
              "</style>\n",
              "<table border=\"1\" class=\"dataframe\">\n",
              "  <thead>\n",
              "    <tr style=\"text-align: right;\">\n",
              "      <th></th>\n",
              "      <th>n</th>\n",
              "      <th>r</th>\n",
              "      <th>CI95%</th>\n",
              "      <th>r2</th>\n",
              "      <th>adj_r2</th>\n",
              "      <th>p-val</th>\n",
              "      <th>BF10</th>\n",
              "      <th>power</th>\n",
              "    </tr>\n",
              "  </thead>\n",
              "  <tbody>\n",
              "    <tr>\n",
              "      <th>pearson</th>\n",
              "      <td>538</td>\n",
              "      <td>0.674448</td>\n",
              "      <td>[0.63, 0.72]</td>\n",
              "      <td>0.45488</td>\n",
              "      <td>0.452843</td>\n",
              "      <td>1.221878e-72</td>\n",
              "      <td>1.233e+69</td>\n",
              "      <td>1.0</td>\n",
              "    </tr>\n",
              "  </tbody>\n",
              "</table>\n",
              "</div>"
            ],
            "text/plain": [
              "           n         r         CI95%  ...         p-val       BF10  power\n",
              "pearson  538  0.674448  [0.63, 0.72]  ...  1.221878e-72  1.233e+69    1.0\n",
              "\n",
              "[1 rows x 8 columns]"
            ]
          },
          "metadata": {
            "tags": []
          },
          "execution_count": 36
        }
      ]
    },
    {
      "cell_type": "markdown",
      "metadata": {
        "id": "kGarDqI2WsSQ"
      },
      "source": [
        "**CHOIX de la statistique récapitulative** \n",
        "Puisque la moyenne des échantillons est de 16  personnes/jour monitorée par occupations, et que la médianne est de 9 personnes/jour, que les échantillons sont petits il est indiqué de suivre une distribution log-normale, nous allons suivre la GM (uT). En d'autres mots,  la statistique descriptive nous montre aussi que la médiane de moyenne arithmétique  AM (uT) est plus grande la médiane de la moyenne géométrique GM (uT). Ce qui est normal et confirme que je vais utiliser la moyenne géométrique pour faire le suivi de l'exposition moyenne quotidienne à un champs magnétique en micro Tesla (uT) d'un employé dans un milieu de travail exposé aux champs électromagnétiques à fréquences industrielles 50-60 hertz (Différents milieux industriels).   Le test statistique ''Test de corrélation de pearson'' va influencer la décision sur le choix de la statistique récapitulative à laquelle mon modèle de prédiction va se référer. HO: pas de corrélation entre les variables si r= 0; Le coefficient de corrélation est de  0.6744 (P<0.0001, 95% CI 0.63, 0.72).   L'hypothèse nulle HO est donc rejetée. La relation de linéarité entre la moyenne arithmétique et géométrique assez forte : r de Pearson = 0.674448; Dans le graphique en nuage de points, la plupart  des points sont proches de la ligne, mais d'autres en sont éloignés, ce qui indique qu'il y a plusieurs valeurs aberrantes qui influencent le r. Aussi, le graphique nous montre bien que la distribution de la  GM (uT) est plus influencée par les valeurs aberrantes que la AM (uT). "
      ]
    },
    {
      "cell_type": "code",
      "metadata": {
        "colab": {
          "base_uri": "https://localhost:8080/"
        },
        "id": "el-KvsCJAzgT",
        "outputId": "92af41e8-297b-46a3-ef46-a0d48d8dde29"
      },
      "source": [
        "#statistique descriptive pour la colonne 'Subjets'représente le nombre de personnes/jours monitorées par occupation \n",
        "\n",
        "print(df['Subjects'].describe())"
      ],
      "execution_count": null,
      "outputs": [
        {
          "output_type": "stream",
          "text": [
            "count    538.000000\n",
            "mean      16.769517\n",
            "std       20.286928\n",
            "min        1.000000\n",
            "25%        4.250000\n",
            "50%        9.000000\n",
            "75%       24.000000\n",
            "max      192.000000\n",
            "Name: Subjects, dtype: float64\n"
          ],
          "name": "stdout"
        }
      ]
    },
    {
      "cell_type": "code",
      "metadata": {
        "colab": {
          "base_uri": "https://localhost:8080/"
        },
        "id": "B28bYEb2EVHb",
        "outputId": "a5da065d-c218-491d-db78-bffb837a1b6c"
      },
      "source": [
        "print(df['Subjects'].mean())"
      ],
      "execution_count": null,
      "outputs": [
        {
          "output_type": "stream",
          "text": [
            "16.769516728624534\n"
          ],
          "name": "stdout"
        }
      ]
    },
    {
      "cell_type": "code",
      "metadata": {
        "colab": {
          "base_uri": "https://localhost:8080/"
        },
        "id": "WEacRqeIFDOh",
        "outputId": "2f03c039-67fa-4729-bf96-3bd1c158de1c"
      },
      "source": [
        "print(df['Subjects'].std())"
      ],
      "execution_count": null,
      "outputs": [
        {
          "output_type": "stream",
          "text": [
            "20.28692784724278\n"
          ],
          "name": "stdout"
        }
      ]
    },
    {
      "cell_type": "code",
      "metadata": {
        "colab": {
          "base_uri": "https://localhost:8080/",
          "height": 282
        },
        "id": "w-i4IX0bGzvw",
        "outputId": "7db9edf4-ec00-4132-cec3-e6c278908619"
      },
      "source": [
        "#density plot\n",
        "df['Subjects'].plot.kde()"
      ],
      "execution_count": null,
      "outputs": [
        {
          "output_type": "execute_result",
          "data": {
            "text/plain": [
              "<matplotlib.axes._subplots.AxesSubplot at 0x7f7c16f13dd0>"
            ]
          },
          "metadata": {
            "tags": []
          },
          "execution_count": 40
        },
        {
          "output_type": "display_data",
          "data": {
            "image/png": "[encoded data removed]",
            "text/plain": [
              "<Figure size 432x288 with 1 Axes>"
            ]
          },
          "metadata": {
            "tags": [],
            "needs_background": "light"
          }
        }
      ]
    },
    {
      "cell_type": "code",
      "metadata": {
        "colab": {
          "base_uri": "https://localhost:8080/",
          "height": 314
        },
        "id": "vjzU8TM-HCEV",
        "outputId": "dbee2a65-f9b4-48fc-a4d3-2205f6a774bc"
      },
      "source": [
        "#histogramme pour la colonne 'Subjets'représente le nombre de personnes/jours monitorées par occupation \n",
        "df.hist(column='Subjects')"
      ],
      "execution_count": null,
      "outputs": [
        {
          "output_type": "execute_result",
          "data": {
            "text/plain": [
              "array([[<matplotlib.axes._subplots.AxesSubplot object at 0x7f7c14eacad0>]],\n",
              "      dtype=object)"
            ]
          },
          "metadata": {
            "tags": []
          },
          "execution_count": 41
        },
        {
          "output_type": "display_data",
          "data": {
            "image/png": "[encoded data removed]",
            "text/plain": [
              "<Figure size 432x288 with 1 Axes>"
            ]
          },
          "metadata": {
            "tags": [],
            "needs_background": "light"
          }
        }
      ]
    },
    {
      "cell_type": "code",
      "metadata": {
        "colab": {
          "base_uri": "https://localhost:8080/",
          "height": 300
        },
        "id": "RSE0ZMvAJIkr",
        "outputId": "7e66db83-7ced-46d2-8ffc-81d8cbb977de"
      },
      "source": [
        "#scatterplot : Subjects vs. GM (uT)\n",
        "df.plot.scatter(x='Subjects',y='GM (uT)')"
      ],
      "execution_count": null,
      "outputs": [
        {
          "output_type": "execute_result",
          "data": {
            "text/plain": [
              "<matplotlib.axes._subplots.AxesSubplot at 0x7f7c14e31fd0>"
            ]
          },
          "metadata": {
            "tags": []
          },
          "execution_count": 42
        },
        {
          "output_type": "display_data",
          "data": {
            "image/png": "[encoded data removed]",
            "text/plain": [
              "<Figure size 432x288 with 1 Axes>"
            ]
          },
          "metadata": {
            "tags": [],
            "needs_background": "light"
          }
        }
      ]
    },
    {
      "cell_type": "code",
      "metadata": {
        "colab": {
          "base_uri": "https://localhost:8080/",
          "height": 296
        },
        "id": "0tZQlyb2KQk3",
        "outputId": "3d7fdd3a-d096-440d-de79-b6a8437ed3ee"
      },
      "source": [
        "df.plot.scatter(x='GM (uT)',y='GSD')"
      ],
      "execution_count": null,
      "outputs": [
        {
          "output_type": "execute_result",
          "data": {
            "text/plain": [
              "<matplotlib.axes._subplots.AxesSubplot at 0x7f7c14db1190>"
            ]
          },
          "metadata": {
            "tags": []
          },
          "execution_count": 43
        },
        {
          "output_type": "display_data",
          "data": {
            "image/png": "[encoded data removed]",
            "text/plain": [
              "<Figure size 432x288 with 1 Axes>"
            ]
          },
          "metadata": {
            "tags": [],
            "needs_background": "light"
          }
        }
      ]
    },
    {
      "cell_type": "code",
      "metadata": {
        "colab": {
          "base_uri": "https://localhost:8080/",
          "height": 402
        },
        "id": "g8Ox-mwBCUBI",
        "outputId": "2d3e1418-4f65-4c9c-a318-1d9e3bbba1bb"
      },
      "source": [
        "#Accès au ligne selon une condition, Si n >= 25 utilise la loi de Laplace Gauss\n",
        "df[df['Subjects'] >= 25]"
      ],
      "execution_count": null,
      "outputs": [
        {
          "output_type": "execute_result",
          "data": {
            "text/html": [
              "<div>\n",
              "<style scoped>\n",
              "    .dataframe tbody tr th:only-of-type {\n",
              "        vertical-align: middle;\n",
              "    }\n",
              "\n",
              "    .dataframe tbody tr th {\n",
              "        vertical-align: top;\n",
              "    }\n",
              "\n",
              "    .dataframe thead th {\n",
              "        text-align: right;\n",
              "    }\n",
              "</style>\n",
              "<table border=\"1\" class=\"dataframe\">\n",
              "  <thead>\n",
              "    <tr style=\"text-align: right;\">\n",
              "      <th></th>\n",
              "      <th>Description</th>\n",
              "      <th>SOC</th>\n",
              "      <th>SOC DIVISION</th>\n",
              "      <th>Subjects</th>\n",
              "      <th>AM (uT)</th>\n",
              "      <th>SD (uT)</th>\n",
              "      <th>GM (uT)</th>\n",
              "      <th>GSD</th>\n",
              "      <th>Data Type</th>\n",
              "    </tr>\n",
              "  </thead>\n",
              "  <tbody>\n",
              "    <tr>\n",
              "      <th>10</th>\n",
              "      <td>financial managers</td>\n",
              "      <td>1220</td>\n",
              "      <td>Executive, Administrative, and Managerial Occu...</td>\n",
              "      <td>28</td>\n",
              "      <td>0.209</td>\n",
              "      <td>0.176</td>\n",
              "      <td>0.271</td>\n",
              "      <td>2.22</td>\n",
              "      <td>Raw</td>\n",
              "    </tr>\n",
              "    <tr>\n",
              "      <th>13</th>\n",
              "      <td>managers; marketing, advertising, and public r...</td>\n",
              "      <td>1250</td>\n",
              "      <td>Executive, Administrative, and Managerial Occu...</td>\n",
              "      <td>32</td>\n",
              "      <td>0.250</td>\n",
              "      <td>0.341</td>\n",
              "      <td>0.251</td>\n",
              "      <td>2.26</td>\n",
              "      <td>Raw</td>\n",
              "    </tr>\n",
              "    <tr>\n",
              "      <th>19</th>\n",
              "      <td>managers; medicine and health</td>\n",
              "      <td>1310</td>\n",
              "      <td>Executive, Administrative, and Managerial Occu...</td>\n",
              "      <td>25</td>\n",
              "      <td>0.211</td>\n",
              "      <td>0.175</td>\n",
              "      <td>0.305</td>\n",
              "      <td>2.07</td>\n",
              "      <td>Raw</td>\n",
              "    </tr>\n",
              "    <tr>\n",
              "      <th>24</th>\n",
              "      <td>electricity, gas, water supply, and sanitary s...</td>\n",
              "      <td>1343</td>\n",
              "      <td>Executive, Administrative, and Managerial Occu...</td>\n",
              "      <td>35</td>\n",
              "      <td>0.181</td>\n",
              "      <td>0.126</td>\n",
              "      <td>0.139</td>\n",
              "      <td>1.80</td>\n",
              "      <td>Inferred</td>\n",
              "    </tr>\n",
              "    <tr>\n",
              "      <th>25</th>\n",
              "      <td>postmasters and mail superintendents</td>\n",
              "      <td>1344</td>\n",
              "      <td>Executive, Administrative, and Managerial Occu...</td>\n",
              "      <td>35</td>\n",
              "      <td>0.181</td>\n",
              "      <td>0.126</td>\n",
              "      <td>0.139</td>\n",
              "      <td>1.80</td>\n",
              "      <td>Inferred</td>\n",
              "    </tr>\n",
              "    <tr>\n",
              "      <th>...</th>\n",
              "      <td>...</td>\n",
              "      <td>...</td>\n",
              "      <td>...</td>\n",
              "      <td>...</td>\n",
              "      <td>...</td>\n",
              "      <td>...</td>\n",
              "      <td>...</td>\n",
              "      <td>...</td>\n",
              "      <td>...</td>\n",
              "    </tr>\n",
              "    <tr>\n",
              "      <th>501</th>\n",
              "      <td>driver-sales worker</td>\n",
              "      <td>8218</td>\n",
              "      <td>Transportation and Material Moving Occupations</td>\n",
              "      <td>45</td>\n",
              "      <td>0.245</td>\n",
              "      <td>0.724</td>\n",
              "      <td>5.105</td>\n",
              "      <td>2.55</td>\n",
              "      <td>Inferred</td>\n",
              "    </tr>\n",
              "    <tr>\n",
              "      <th>510</th>\n",
              "      <td>industrial truck and tractor equipment operators</td>\n",
              "      <td>8318</td>\n",
              "      <td>Transportation and Material Moving Occupations</td>\n",
              "      <td>52</td>\n",
              "      <td>0.148</td>\n",
              "      <td>0.521</td>\n",
              "      <td>2.553</td>\n",
              "      <td>2.27</td>\n",
              "      <td>Inferred</td>\n",
              "    </tr>\n",
              "    <tr>\n",
              "      <th>517</th>\n",
              "      <td>helpers; industrial machinery repairers</td>\n",
              "      <td>8633</td>\n",
              "      <td>Handlers, Equipment Cleaners, Helpers, and Lab...</td>\n",
              "      <td>32</td>\n",
              "      <td>0.320</td>\n",
              "      <td>0.305</td>\n",
              "      <td>0.958</td>\n",
              "      <td>2.23</td>\n",
              "      <td>Inferred</td>\n",
              "    </tr>\n",
              "    <tr>\n",
              "      <th>518</th>\n",
              "      <td>helpers; electrical and electronic equipment r...</td>\n",
              "      <td>8635</td>\n",
              "      <td>Handlers, Equipment Cleaners, Helpers, and Lab...</td>\n",
              "      <td>94</td>\n",
              "      <td>0.540</td>\n",
              "      <td>0.766</td>\n",
              "      <td>3.991</td>\n",
              "      <td>2.54</td>\n",
              "      <td>Inferred</td>\n",
              "    </tr>\n",
              "    <tr>\n",
              "      <th>519</th>\n",
              "      <td>helpers; miscellaneous mechanics and repairers</td>\n",
              "      <td>8637</td>\n",
              "      <td>Handlers, Equipment Cleaners, Helpers, and Lab...</td>\n",
              "      <td>108</td>\n",
              "      <td>0.296</td>\n",
              "      <td>0.307</td>\n",
              "      <td>0.912</td>\n",
              "      <td>2.04</td>\n",
              "      <td>Inferred</td>\n",
              "    </tr>\n",
              "  </tbody>\n",
              "</table>\n",
              "<p>129 rows × 9 columns</p>\n",
              "</div>"
            ],
            "text/plain": [
              "0                                          Description   SOC  ...   GSD  Data Type\n",
              "10                                  financial managers  1220  ...  2.22        Raw\n",
              "13   managers; marketing, advertising, and public r...  1250  ...  2.26        Raw\n",
              "19                       managers; medicine and health  1310  ...  2.07        Raw\n",
              "24   electricity, gas, water supply, and sanitary s...  1343  ...  1.80   Inferred\n",
              "25                postmasters and mail superintendents  1344  ...  1.80   Inferred\n",
              "..                                                 ...   ...  ...   ...        ...\n",
              "501                                driver-sales worker  8218  ...  2.55   Inferred\n",
              "510   industrial truck and tractor equipment operators  8318  ...  2.27   Inferred\n",
              "517            helpers; industrial machinery repairers  8633  ...  2.23   Inferred\n",
              "518  helpers; electrical and electronic equipment r...  8635  ...  2.54   Inferred\n",
              "519     helpers; miscellaneous mechanics and repairers  8637  ...  2.04   Inferred\n",
              "\n",
              "[129 rows x 9 columns]"
            ]
          },
          "metadata": {
            "tags": []
          },
          "execution_count": 44
        }
      ]
    },
    {
      "cell_type": "code",
      "metadata": {
        "colab": {
          "base_uri": "https://localhost:8080/",
          "height": 402
        },
        "id": "9UqTUef9SEmq",
        "outputId": "b401a724-c3fd-4eba-94c6-efa117170dbe"
      },
      "source": [
        "#Accès au ligne selon une condition, Si n < 25, on utilise la loi de Student Fisher\n",
        "df[df['Subjects'] < 25]"
      ],
      "execution_count": null,
      "outputs": [
        {
          "output_type": "execute_result",
          "data": {
            "text/html": [
              "<div>\n",
              "<style scoped>\n",
              "    .dataframe tbody tr th:only-of-type {\n",
              "        vertical-align: middle;\n",
              "    }\n",
              "\n",
              "    .dataframe tbody tr th {\n",
              "        vertical-align: top;\n",
              "    }\n",
              "\n",
              "    .dataframe thead th {\n",
              "        text-align: right;\n",
              "    }\n",
              "</style>\n",
              "<table border=\"1\" class=\"dataframe\">\n",
              "  <thead>\n",
              "    <tr style=\"text-align: right;\">\n",
              "      <th></th>\n",
              "      <th>Description</th>\n",
              "      <th>SOC</th>\n",
              "      <th>SOC DIVISION</th>\n",
              "      <th>Subjects</th>\n",
              "      <th>AM (uT)</th>\n",
              "      <th>SD (uT)</th>\n",
              "      <th>GM (uT)</th>\n",
              "      <th>GSD</th>\n",
              "      <th>Data Type</th>\n",
              "    </tr>\n",
              "  </thead>\n",
              "  <tbody>\n",
              "    <tr>\n",
              "      <th>1</th>\n",
              "      <td>legislators</td>\n",
              "      <td>1110</td>\n",
              "      <td>Executive, Administrative, and Managerial Occu...</td>\n",
              "      <td>15</td>\n",
              "      <td>0.180</td>\n",
              "      <td>0.061</td>\n",
              "      <td>0.039</td>\n",
              "      <td>1.39</td>\n",
              "      <td>Inferred</td>\n",
              "    </tr>\n",
              "    <tr>\n",
              "      <th>2</th>\n",
              "      <td>chief executives and general administrators</td>\n",
              "      <td>1120</td>\n",
              "      <td>Executive, Administrative, and Managerial Occu...</td>\n",
              "      <td>15</td>\n",
              "      <td>0.180</td>\n",
              "      <td>0.063</td>\n",
              "      <td>0.039</td>\n",
              "      <td>1.40</td>\n",
              "      <td>Raw</td>\n",
              "    </tr>\n",
              "    <tr>\n",
              "      <th>3</th>\n",
              "      <td>judicial, public safety and corrections admini...</td>\n",
              "      <td>1131</td>\n",
              "      <td>Executive, Administrative, and Managerial Occu...</td>\n",
              "      <td>15</td>\n",
              "      <td>0.180</td>\n",
              "      <td>0.061</td>\n",
              "      <td>0.039</td>\n",
              "      <td>1.39</td>\n",
              "      <td>Inferred</td>\n",
              "    </tr>\n",
              "    <tr>\n",
              "      <th>4</th>\n",
              "      <td>human resources program administrators</td>\n",
              "      <td>1132</td>\n",
              "      <td>Executive, Administrative, and Managerial Occu...</td>\n",
              "      <td>15</td>\n",
              "      <td>0.180</td>\n",
              "      <td>0.061</td>\n",
              "      <td>0.039</td>\n",
              "      <td>1.39</td>\n",
              "      <td>Inferred</td>\n",
              "    </tr>\n",
              "    <tr>\n",
              "      <th>5</th>\n",
              "      <td>natural resources program administrators</td>\n",
              "      <td>1133</td>\n",
              "      <td>Executive, Administrative, and Managerial Occu...</td>\n",
              "      <td>15</td>\n",
              "      <td>0.180</td>\n",
              "      <td>0.061</td>\n",
              "      <td>0.039</td>\n",
              "      <td>1.39</td>\n",
              "      <td>Inferred</td>\n",
              "    </tr>\n",
              "    <tr>\n",
              "      <th>...</th>\n",
              "      <td>...</td>\n",
              "      <td>...</td>\n",
              "      <td>...</td>\n",
              "      <td>...</td>\n",
              "      <td>...</td>\n",
              "      <td>...</td>\n",
              "      <td>...</td>\n",
              "      <td>...</td>\n",
              "      <td>...</td>\n",
              "    </tr>\n",
              "    <tr>\n",
              "      <th>534</th>\n",
              "      <td>garage and service station related occupations</td>\n",
              "      <td>8730</td>\n",
              "      <td>Handlers, Equipment Cleaners, Helpers, and Lab...</td>\n",
              "      <td>6</td>\n",
              "      <td>0.236</td>\n",
              "      <td>0.123</td>\n",
              "      <td>0.146</td>\n",
              "      <td>1.68</td>\n",
              "      <td>Raw</td>\n",
              "    </tr>\n",
              "    <tr>\n",
              "      <th>535</th>\n",
              "      <td>parking lot attendants</td>\n",
              "      <td>8740</td>\n",
              "      <td>Handlers, Equipment Cleaners, Helpers, and Lab...</td>\n",
              "      <td>6</td>\n",
              "      <td>0.236</td>\n",
              "      <td>0.112</td>\n",
              "      <td>0.146</td>\n",
              "      <td>1.60</td>\n",
              "      <td>Inferred</td>\n",
              "    </tr>\n",
              "    <tr>\n",
              "      <th>536</th>\n",
              "      <td>hand packers and packagers</td>\n",
              "      <td>8761</td>\n",
              "      <td>Handlers, Equipment Cleaners, Helpers, and Lab...</td>\n",
              "      <td>5</td>\n",
              "      <td>0.363</td>\n",
              "      <td>0.235</td>\n",
              "      <td>0.499</td>\n",
              "      <td>1.94</td>\n",
              "      <td>Raw</td>\n",
              "    </tr>\n",
              "    <tr>\n",
              "      <th>537</th>\n",
              "      <td>manual occupations, not elsewhere classified</td>\n",
              "      <td>8769</td>\n",
              "      <td>Handlers, Equipment Cleaners, Helpers, and Lab...</td>\n",
              "      <td>5</td>\n",
              "      <td>0.360</td>\n",
              "      <td>0.433</td>\n",
              "      <td>1.879</td>\n",
              "      <td>2.58</td>\n",
              "      <td>Raw</td>\n",
              "    </tr>\n",
              "    <tr>\n",
              "      <th>538</th>\n",
              "      <td>military occupations</td>\n",
              "      <td>9100</td>\n",
              "      <td>Military Occupations</td>\n",
              "      <td>4</td>\n",
              "      <td>0.170</td>\n",
              "      <td>0.061</td>\n",
              "      <td>0.037</td>\n",
              "      <td>1.42</td>\n",
              "      <td>Raw</td>\n",
              "    </tr>\n",
              "  </tbody>\n",
              "</table>\n",
              "<p>409 rows × 9 columns</p>\n",
              "</div>"
            ],
            "text/plain": [
              "0                                          Description   SOC  ...   GSD  Data Type\n",
              "1                                          legislators  1110  ...  1.39   Inferred\n",
              "2          chief executives and general administrators  1120  ...  1.40        Raw\n",
              "3    judicial, public safety and corrections admini...  1131  ...  1.39   Inferred\n",
              "4               human resources program administrators  1132  ...  1.39   Inferred\n",
              "5             natural resources program administrators  1133  ...  1.39   Inferred\n",
              "..                                                 ...   ...  ...   ...        ...\n",
              "534     garage and service station related occupations  8730  ...  1.68        Raw\n",
              "535                             parking lot attendants  8740  ...  1.60   Inferred\n",
              "536                         hand packers and packagers  8761  ...  1.94        Raw\n",
              "537       manual occupations, not elsewhere classified  8769  ...  2.58        Raw\n",
              "538                               military occupations  9100  ...  1.42        Raw\n",
              "\n",
              "[409 rows x 9 columns]"
            ]
          },
          "metadata": {
            "tags": []
          },
          "execution_count": 45
        }
      ]
    },
    {
      "cell_type": "code",
      "metadata": {
        "colab": {
          "base_uri": "https://localhost:8080/",
          "height": 254
        },
        "id": "YPECBXz88RCj",
        "outputId": "5f2a740f-4262-4b60-d540-1217ece980d7"
      },
      "source": [
        "##Liste des ocupations plus grande ou égale à la limite d'exposition aux champs magnétiques  en micro tesla (uT), selon les limites d'exposition de la France\n",
        "df[df['GM (uT)'] > 100]"
      ],
      "execution_count": null,
      "outputs": [
        {
          "output_type": "execute_result",
          "data": {
            "text/html": [
              "<div>\n",
              "<style scoped>\n",
              "    .dataframe tbody tr th:only-of-type {\n",
              "        vertical-align: middle;\n",
              "    }\n",
              "\n",
              "    .dataframe tbody tr th {\n",
              "        vertical-align: top;\n",
              "    }\n",
              "\n",
              "    .dataframe thead th {\n",
              "        text-align: right;\n",
              "    }\n",
              "</style>\n",
              "<table border=\"1\" class=\"dataframe\">\n",
              "  <thead>\n",
              "    <tr style=\"text-align: right;\">\n",
              "      <th></th>\n",
              "      <th>Description</th>\n",
              "      <th>SOC</th>\n",
              "      <th>SOC DIVISION</th>\n",
              "      <th>Subjects</th>\n",
              "      <th>AM (uT)</th>\n",
              "      <th>SD (uT)</th>\n",
              "      <th>GM (uT)</th>\n",
              "      <th>GSD</th>\n",
              "      <th>Data Type</th>\n",
              "    </tr>\n",
              "  </thead>\n",
              "  <tbody>\n",
              "    <tr>\n",
              "      <th>331</th>\n",
              "      <td>timber cutting and related occupations</td>\n",
              "      <td>5730</td>\n",
              "      <td>Agricultural, Forestry, and Fishing Occupations</td>\n",
              "      <td>9</td>\n",
              "      <td>2.480</td>\n",
              "      <td>7.703</td>\n",
              "      <td>593.403</td>\n",
              "      <td>4.66</td>\n",
              "      <td>Raw</td>\n",
              "    </tr>\n",
              "    <tr>\n",
              "      <th>371</th>\n",
              "      <td>electrical power installers and repairers</td>\n",
              "      <td>6433</td>\n",
              "      <td>Construction and Extractive Occupations</td>\n",
              "      <td>156</td>\n",
              "      <td>3.474</td>\n",
              "      <td>10.731</td>\n",
              "      <td>1147.146</td>\n",
              "      <td>4.34</td>\n",
              "      <td>Raw</td>\n",
              "    </tr>\n",
              "    <tr>\n",
              "      <th>382</th>\n",
              "      <td>sheetmetal duct installers</td>\n",
              "      <td>6472</td>\n",
              "      <td>Construction and Extractive Occupations</td>\n",
              "      <td>10</td>\n",
              "      <td>1.590</td>\n",
              "      <td>4.594</td>\n",
              "      <td>211.083</td>\n",
              "      <td>4.46</td>\n",
              "      <td>Raw</td>\n",
              "    </tr>\n",
              "    <tr>\n",
              "      <th>383</th>\n",
              "      <td>structural metal workers</td>\n",
              "      <td>6473</td>\n",
              "      <td>Construction and Extractive Occupations</td>\n",
              "      <td>10</td>\n",
              "      <td>1.590</td>\n",
              "      <td>4.594</td>\n",
              "      <td>211.083</td>\n",
              "      <td>4.46</td>\n",
              "      <td>Raw</td>\n",
              "    </tr>\n",
              "    <tr>\n",
              "      <th>391</th>\n",
              "      <td>boilermakers</td>\n",
              "      <td>6814</td>\n",
              "      <td>Precision Production Occupations</td>\n",
              "      <td>10</td>\n",
              "      <td>1.590</td>\n",
              "      <td>4.594</td>\n",
              "      <td>211.083</td>\n",
              "      <td>4.46</td>\n",
              "      <td>Raw</td>\n",
              "    </tr>\n",
              "    <tr>\n",
              "      <th>394</th>\n",
              "      <td>lay-out workers</td>\n",
              "      <td>6821</td>\n",
              "      <td>Precision Production Occupations</td>\n",
              "      <td>12</td>\n",
              "      <td>1.343</td>\n",
              "      <td>4.017</td>\n",
              "      <td>172.708</td>\n",
              "      <td>4.27</td>\n",
              "      <td>Inferred</td>\n",
              "    </tr>\n",
              "    <tr>\n",
              "      <th>395</th>\n",
              "      <td>sheet metal workers</td>\n",
              "      <td>6824</td>\n",
              "      <td>Precision Production Occupations</td>\n",
              "      <td>12</td>\n",
              "      <td>1.343</td>\n",
              "      <td>4.196</td>\n",
              "      <td>172.708</td>\n",
              "      <td>4.56</td>\n",
              "      <td>Raw</td>\n",
              "    </tr>\n",
              "  </tbody>\n",
              "</table>\n",
              "</div>"
            ],
            "text/plain": [
              "0                                  Description   SOC  ...   GSD  Data Type\n",
              "331     timber cutting and related occupations  5730  ...  4.66        Raw\n",
              "371  electrical power installers and repairers  6433  ...  4.34        Raw\n",
              "382                 sheetmetal duct installers  6472  ...  4.46        Raw\n",
              "383                   structural metal workers  6473  ...  4.46        Raw\n",
              "391                               boilermakers  6814  ...  4.46        Raw\n",
              "394                            lay-out workers  6821  ...  4.27   Inferred\n",
              "395                        sheet metal workers  6824  ...  4.56        Raw\n",
              "\n",
              "[7 rows x 9 columns]"
            ]
          },
          "metadata": {
            "tags": []
          },
          "execution_count": 46
        }
      ]
    },
    {
      "cell_type": "markdown",
      "metadata": {
        "id": "rMFQ9PzYgAKH"
      },
      "source": [
        "# **Statistiques inférentielles: Statistiques d'erreur standard \n",
        "\n",
        "**BIAIS dans les résultats: ERREURS D'ÉCHANTILLONNAGE**\n",
        "**Erreur standard de la moyenne (SEM)** Dans ce contexte-ci j'ignorent l'écart-type de la population, je vais donc utiliser l'écart-type de l'échantillon comme remplacement le plus proche. Le SEM peut ensuite être calculé à l'aide de la formule suivante. L'une des principales hypothèses ici est que les observations de l'échantillon sont statistiquement indépendantes. **Standard error of the mean (SEM) = s / √n**\n",
        "\n",
        "où\n",
        "\n",
        "s: sample standard deviation n: sample size\n",
        "\n",
        "Intervalle de confiance\n",
        "68%CI = Score ±SEM\n",
        "95%CI = Score ±(1.96*SEM)\n",
        "99%CI = Score ±(2.58*SEM)\n",
        "\n",
        "*Puisque nous utilisons la GM (uT), est-ce possible d'utiliser la GSE à partir de la GSD calculée plutôt que de la SD de la AM (uT).\n",
        "\n",
        "??????????? GSE Geometric standard error?"
      ]
    },
    {
      "cell_type": "code",
      "metadata": {
        "colab": {
          "base_uri": "https://localhost:8080/",
          "height": 77
        },
        "id": "VnsJ_oyxgpFe",
        "outputId": "a29279bb-3596-48fa-b14e-865c7e525424"
      },
      "source": [
        "#Liste des ocupations plus grande ou égale à la limite d'exposition aux champs magnétiques  en micro tesla (uT), selon les recommandations de ICNIRP\n",
        "df[df['GM (uT)'] > 1000]\n",
        "\n"
      ],
      "execution_count": null,
      "outputs": [
        {
          "output_type": "execute_result",
          "data": {
            "text/html": [
              "<div>\n",
              "<style scoped>\n",
              "    .dataframe tbody tr th:only-of-type {\n",
              "        vertical-align: middle;\n",
              "    }\n",
              "\n",
              "    .dataframe tbody tr th {\n",
              "        vertical-align: top;\n",
              "    }\n",
              "\n",
              "    .dataframe thead th {\n",
              "        text-align: right;\n",
              "    }\n",
              "</style>\n",
              "<table border=\"1\" class=\"dataframe\">\n",
              "  <thead>\n",
              "    <tr style=\"text-align: right;\">\n",
              "      <th></th>\n",
              "      <th>Description</th>\n",
              "      <th>SOC</th>\n",
              "      <th>SOC DIVISION</th>\n",
              "      <th>Subjects</th>\n",
              "      <th>AM (uT)</th>\n",
              "      <th>SD (uT)</th>\n",
              "      <th>GM (uT)</th>\n",
              "      <th>GSD</th>\n",
              "      <th>Data Type</th>\n",
              "    </tr>\n",
              "  </thead>\n",
              "  <tbody>\n",
              "    <tr>\n",
              "      <th>371</th>\n",
              "      <td>electrical power installers and repairers</td>\n",
              "      <td>6433</td>\n",
              "      <td>Construction and Extractive Occupations</td>\n",
              "      <td>156</td>\n",
              "      <td>3.474</td>\n",
              "      <td>10.731</td>\n",
              "      <td>1147.146</td>\n",
              "      <td>4.34</td>\n",
              "      <td>Raw</td>\n",
              "    </tr>\n",
              "  </tbody>\n",
              "</table>\n",
              "</div>"
            ],
            "text/plain": [
              "0                                  Description   SOC  ...   GSD  Data Type\n",
              "371  electrical power installers and repairers  6433  ...  4.34        Raw\n",
              "\n",
              "[1 rows x 9 columns]"
            ]
          },
          "metadata": {
            "tags": []
          },
          "execution_count": 75
        }
      ]
    },
    {
      "cell_type": "code",
      "metadata": {
        "colab": {
          "base_uri": "https://localhost:8080/",
          "height": 106
        },
        "id": "qkUzWSOf4aE7",
        "outputId": "ce668f7b-b549-4db0-a8ed-6cc6e9732ed8"
      },
      "source": [
        "#Liste des ocupations plus grande ou égale à la limite d'exposition aux champs magnétiques  en micro tesla (uT), selon les limites d'exposition l'OMS pour la Finlande.\n",
        "df[df['GM (uT)'] > 500]\n"
      ],
      "execution_count": null,
      "outputs": [
        {
          "output_type": "execute_result",
          "data": {
            "text/html": [
              "<div>\n",
              "<style scoped>\n",
              "    .dataframe tbody tr th:only-of-type {\n",
              "        vertical-align: middle;\n",
              "    }\n",
              "\n",
              "    .dataframe tbody tr th {\n",
              "        vertical-align: top;\n",
              "    }\n",
              "\n",
              "    .dataframe thead th {\n",
              "        text-align: right;\n",
              "    }\n",
              "</style>\n",
              "<table border=\"1\" class=\"dataframe\">\n",
              "  <thead>\n",
              "    <tr style=\"text-align: right;\">\n",
              "      <th></th>\n",
              "      <th>Description</th>\n",
              "      <th>SOC</th>\n",
              "      <th>SOC DIVISION</th>\n",
              "      <th>Subjects</th>\n",
              "      <th>AM (uT)</th>\n",
              "      <th>SD (uT)</th>\n",
              "      <th>GM (uT)</th>\n",
              "      <th>GSD</th>\n",
              "      <th>Data Type</th>\n",
              "    </tr>\n",
              "  </thead>\n",
              "  <tbody>\n",
              "    <tr>\n",
              "      <th>331</th>\n",
              "      <td>timber cutting and related occupations</td>\n",
              "      <td>5730</td>\n",
              "      <td>Agricultural, Forestry, and Fishing Occupations</td>\n",
              "      <td>9</td>\n",
              "      <td>2.480</td>\n",
              "      <td>7.703</td>\n",
              "      <td>593.403</td>\n",
              "      <td>4.66</td>\n",
              "      <td>Raw</td>\n",
              "    </tr>\n",
              "    <tr>\n",
              "      <th>371</th>\n",
              "      <td>electrical power installers and repairers</td>\n",
              "      <td>6433</td>\n",
              "      <td>Construction and Extractive Occupations</td>\n",
              "      <td>156</td>\n",
              "      <td>3.474</td>\n",
              "      <td>10.731</td>\n",
              "      <td>1147.146</td>\n",
              "      <td>4.34</td>\n",
              "      <td>Raw</td>\n",
              "    </tr>\n",
              "  </tbody>\n",
              "</table>\n",
              "</div>"
            ],
            "text/plain": [
              "0                                  Description   SOC  ...   GSD  Data Type\n",
              "331     timber cutting and related occupations  5730  ...  4.66        Raw\n",
              "371  electrical power installers and repairers  6433  ...  4.34        Raw\n",
              "\n",
              "[2 rows x 9 columns]"
            ]
          },
          "metadata": {
            "tags": []
          },
          "execution_count": 76
        }
      ]
    },
    {
      "cell_type": "code",
      "metadata": {
        "colab": {
          "base_uri": "https://localhost:8080/"
        },
        "id": "x_ofjCO2hBZF",
        "outputId": "89e9e674-6f04-4019-b8ec-562d1190d944"
      },
      "source": [
        "#Sem s: exemple avec SOC 6433 :  sample standard deviation= SD=10.731  n: sample size= 156 où Standard error of the mean (SEM) = s / √n\n",
        "sem = 10.731 /np.sqrt(156)\n",
        "print(sem)\n"
      ],
      "execution_count": null,
      "outputs": [
        {
          "output_type": "stream",
          "text": [
            "0.859167609241195\n"
          ],
          "name": "stdout"
        }
      ]
    },
    {
      "cell_type": "code",
      "metadata": {
        "colab": {
          "base_uri": "https://localhost:8080/"
        },
        "id": "BdBYMHKX0UCk",
        "outputId": "d25f54e9-ac3b-4c20-b935-77d5b750f246"
      },
      "source": [
        "#Sem s: exemple avec SOC 5730 :  sample standard deviation= SD=7.7031  n: sample size= 9 où Standard error of the mean (SEM) = s / √n\n",
        "sem = 7.7031 /np.sqrt(9)\n",
        "print(sem)"
      ],
      "execution_count": null,
      "outputs": [
        {
          "output_type": "stream",
          "text": [
            "2.5677\n"
          ],
          "name": "stdout"
        }
      ]
    }
  ]
}