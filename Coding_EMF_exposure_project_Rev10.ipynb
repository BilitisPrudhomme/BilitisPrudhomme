{
  "nbformat": 4,
  "nbformat_minor": 0,
  "metadata": {
    "colab": {
      "name": "Coding EMF exposure project_Rev10.ipynb ",
      "provenance": [],
      "collapsed_sections": [],
      "authorship_tag": "ABX9TyOhJu6D/geuUKr0ota2lLt8",
      "include_colab_link": true
    },
    "kernelspec": {
      "name": "python3",
      "display_name": "Python 3"
    }
  },
  "cells": [
    {
      "cell_type": "markdown",
      "metadata": {
        "id": "view-in-github",
        "colab_type": "text"
      },
      "source": [
        "<a href=\"https://colab.research.google.com/github/BilitisPrudhomme/BilitisPrudhomme/blob/main/Coding_EMF_exposure_project_Rev10.ipynb\" target=\"_parent\"><img src=\"https://colab.research.google.com/assets/colab-badge.svg\" alt=\"Open In Colab\"/></a>"
      ]
    },
    {
      "cell_type": "code",
      "metadata": {
        "colab": {
          "base_uri": "https://localhost:8080/"
        },
        "id": "84ZJ4ZMKCFqO",
        "outputId": "696b3add-1560-4855-8c12-be6e83fb2f68"
      },
      "source": [
        "# pip is the standard package manager for Python. It allows you to install and manage additional packages that are not part of the Python standard library.\n",
        "!pip install --upgrade gspread\n"
      ],
      "execution_count": 114,
      "outputs": [
        {
          "output_type": "stream",
          "text": [
            "Requirement already up-to-date: gspread in /usr/local/lib/python3.7/dist-packages (3.7.0)\n",
            "Requirement already satisfied, skipping upgrade: google-auth-oauthlib>=0.4.1 in /usr/local/lib/python3.7/dist-packages (from gspread) (0.4.3)\n",
            "Requirement already satisfied, skipping upgrade: google-auth>=1.12.0 in /usr/local/lib/python3.7/dist-packages (from gspread) (1.28.0)\n",
            "Requirement already satisfied, skipping upgrade: requests-oauthlib>=0.7.0 in /usr/local/lib/python3.7/dist-packages (from google-auth-oauthlib>=0.4.1->gspread) (1.3.0)\n",
            "Requirement already satisfied, skipping upgrade: setuptools>=40.3.0 in /usr/local/lib/python3.7/dist-packages (from google-auth>=1.12.0->gspread) (54.2.0)\n",
            "Requirement already satisfied, skipping upgrade: pyasn1-modules>=0.2.1 in /usr/local/lib/python3.7/dist-packages (from google-auth>=1.12.0->gspread) (0.2.8)\n",
            "Requirement already satisfied, skipping upgrade: rsa<5,>=3.1.4; python_version >= \"3.6\" in /usr/local/lib/python3.7/dist-packages (from google-auth>=1.12.0->gspread) (4.7.2)\n",
            "Requirement already satisfied, skipping upgrade: six>=1.9.0 in /usr/local/lib/python3.7/dist-packages (from google-auth>=1.12.0->gspread) (1.15.0)\n",
            "Requirement already satisfied, skipping upgrade: cachetools<5.0,>=2.0.0 in /usr/local/lib/python3.7/dist-packages (from google-auth>=1.12.0->gspread) (4.2.1)\n",
            "Requirement already satisfied, skipping upgrade: requests>=2.0.0 in /usr/local/lib/python3.7/dist-packages (from requests-oauthlib>=0.7.0->google-auth-oauthlib>=0.4.1->gspread) (2.23.0)\n",
            "Requirement already satisfied, skipping upgrade: oauthlib>=3.0.0 in /usr/local/lib/python3.7/dist-packages (from requests-oauthlib>=0.7.0->google-auth-oauthlib>=0.4.1->gspread) (3.1.0)\n",
            "Requirement already satisfied, skipping upgrade: pyasn1<0.5.0,>=0.4.6 in /usr/local/lib/python3.7/dist-packages (from pyasn1-modules>=0.2.1->google-auth>=1.12.0->gspread) (0.4.8)\n",
            "Requirement already satisfied, skipping upgrade: certifi>=2017.4.17 in /usr/local/lib/python3.7/dist-packages (from requests>=2.0.0->requests-oauthlib>=0.7.0->google-auth-oauthlib>=0.4.1->gspread) (2020.12.5)\n",
            "Requirement already satisfied, skipping upgrade: urllib3!=1.25.0,!=1.25.1,<1.26,>=1.21.1 in /usr/local/lib/python3.7/dist-packages (from requests>=2.0.0->requests-oauthlib>=0.7.0->google-auth-oauthlib>=0.4.1->gspread) (1.24.3)\n",
            "Requirement already satisfied, skipping upgrade: idna<3,>=2.5 in /usr/local/lib/python3.7/dist-packages (from requests>=2.0.0->requests-oauthlib>=0.7.0->google-auth-oauthlib>=0.4.1->gspread) (2.10)\n",
            "Requirement already satisfied, skipping upgrade: chardet<4,>=3.0.2 in /usr/local/lib/python3.7/dist-packages (from requests>=2.0.0->requests-oauthlib>=0.7.0->google-auth-oauthlib>=0.4.1->gspread) (3.0.4)\n"
          ],
          "name": "stdout"
        }
      ]
    },
    {
      "cell_type": "markdown",
      "metadata": {
        "id": "tN785nY2iaxp"
      },
      "source": [
        "INSTALLATION DES LIBRAIRIES"
      ]
    },
    {
      "cell_type": "code",
      "metadata": {
        "id": "U25kHTLMCR4i"
      },
      "source": [
        "#Colab is a Python development environment that runs in the browser using Google Cloud, in order to use the Drive API, we must first authenticate and construct an API client.\n",
        "from google.colab import auth\n",
        "auth.authenticate_user()\n",
        "\n",
        "# Use the open-source gspread library for interacting with Google Sheets.\n",
        "import gspread\n",
        "from oauth2client.client import GoogleCredentials\n",
        "\n",
        "gc = gspread.authorize(GoogleCredentials.get_application_default())\n"
      ],
      "execution_count": 115,
      "outputs": []
    },
    {
      "cell_type": "code",
      "metadata": {
        "id": "VRrS1rw8Caz4",
        "colab": {
          "base_uri": "https://localhost:8080/"
        },
        "outputId": "229fc416-b76b-4655-ac1f-38a3688bda17"
      },
      "source": [
        "# Simply imports the library the current namespace, but rather than using the name pandas , it's instructed to use the name pd instead. This is just so you can do pd.whatever instead of having to type out pandas, samething for matplotlib.\n",
        "# Pandas library. pandas is an open source Python library that provides “high-performance, easy-to-use data structures and data analysis tools.”\n",
        "# Matplotlib is a Python package used for data plotting and visualisation. It is a useful complement to Pandas, and like Pandas, is a very feature-rich library which can produce a large variety of plots, charts, maps, and other visualisations.\n",
        "import numpy as np\n",
        "import pandas as pd\n",
        "import matplotlib.pyplot as plt\n",
        "!pip install pingouin\n",
        "\n"
      ],
      "execution_count": 166,
      "outputs": [
        {
          "output_type": "stream",
          "text": [
            "Collecting pingouin\n",
            "\u001b[?25l  Downloading https://files.pythonhosted.org/packages/55/47/9d1845b179fcbac04f13056846e132e54cf62734d33892a370f98efa5ac1/pingouin-0.3.10.tar.gz (204kB)\n",
            "\r\u001b[K     |█▋                              | 10kB 15.7MB/s eta 0:00:01\r\u001b[K     |███▏                            | 20kB 21.0MB/s eta 0:00:01\r\u001b[K     |████▉                           | 30kB 16.8MB/s eta 0:00:01\r\u001b[K     |██████▍                         | 40kB 10.6MB/s eta 0:00:01\r\u001b[K     |████████                        | 51kB 7.5MB/s eta 0:00:01\r\u001b[K     |█████████▋                      | 61kB 8.0MB/s eta 0:00:01\r\u001b[K     |███████████▏                    | 71kB 8.5MB/s eta 0:00:01\r\u001b[K     |████████████▉                   | 81kB 8.3MB/s eta 0:00:01\r\u001b[K     |██████████████▍                 | 92kB 8.6MB/s eta 0:00:01\r\u001b[K     |████████████████                | 102kB 9.0MB/s eta 0:00:01\r\u001b[K     |█████████████████▋              | 112kB 9.0MB/s eta 0:00:01\r\u001b[K     |███████████████████▎            | 122kB 9.0MB/s eta 0:00:01\r\u001b[K     |████████████████████▉           | 133kB 9.0MB/s eta 0:00:01\r\u001b[K     |██████████████████████▍         | 143kB 9.0MB/s eta 0:00:01\r\u001b[K     |████████████████████████        | 153kB 9.0MB/s eta 0:00:01\r\u001b[K     |█████████████████████████▋      | 163kB 9.0MB/s eta 0:00:01\r\u001b[K     |███████████████████████████▎    | 174kB 9.0MB/s eta 0:00:01\r\u001b[K     |████████████████████████████▉   | 184kB 9.0MB/s eta 0:00:01\r\u001b[K     |██████████████████████████████▍ | 194kB 9.0MB/s eta 0:00:01\r\u001b[K     |████████████████████████████████| 204kB 9.0MB/s \n",
            "\u001b[?25hRequirement already satisfied: numpy>=1.15 in /usr/local/lib/python3.7/dist-packages (from pingouin) (1.19.5)\n",
            "Requirement already satisfied: scipy>=1.3 in /usr/local/lib/python3.7/dist-packages (from pingouin) (1.4.1)\n",
            "Requirement already satisfied: pandas>=0.24 in /usr/local/lib/python3.7/dist-packages (from pingouin) (1.1.5)\n",
            "Requirement already satisfied: matplotlib>=3.0.2 in /usr/local/lib/python3.7/dist-packages (from pingouin) (3.2.2)\n",
            "Requirement already satisfied: seaborn>=0.9.0 in /usr/local/lib/python3.7/dist-packages (from pingouin) (0.11.1)\n",
            "Requirement already satisfied: statsmodels>=0.10.0 in /usr/local/lib/python3.7/dist-packages (from pingouin) (0.10.2)\n",
            "Requirement already satisfied: scikit-learn in /usr/local/lib/python3.7/dist-packages (from pingouin) (0.22.2.post1)\n",
            "Collecting pandas_flavor>=0.1.2\n",
            "  Downloading https://files.pythonhosted.org/packages/9a/57/7fbcff4c0961ed190ac5fcb0bd8194152ee1ee6487edf64fdbae16e2bc4b/pandas_flavor-0.2.0-py2.py3-none-any.whl\n",
            "Collecting outdated\n",
            "  Downloading https://files.pythonhosted.org/packages/fd/f6/95588d496e518355c33b389222c99069b1c6f2c046be64f400072fdc7cda/outdated-0.2.1-py3-none-any.whl\n",
            "Requirement already satisfied: tabulate in /usr/local/lib/python3.7/dist-packages (from pingouin) (0.8.9)\n",
            "Requirement already satisfied: pytz>=2017.2 in /usr/local/lib/python3.7/dist-packages (from pandas>=0.24->pingouin) (2018.9)\n",
            "Requirement already satisfied: python-dateutil>=2.7.3 in /usr/local/lib/python3.7/dist-packages (from pandas>=0.24->pingouin) (2.8.1)\n",
            "Requirement already satisfied: cycler>=0.10 in /usr/local/lib/python3.7/dist-packages (from matplotlib>=3.0.2->pingouin) (0.10.0)\n",
            "Requirement already satisfied: pyparsing!=2.0.4,!=2.1.2,!=2.1.6,>=2.0.1 in /usr/local/lib/python3.7/dist-packages (from matplotlib>=3.0.2->pingouin) (2.4.7)\n",
            "Requirement already satisfied: kiwisolver>=1.0.1 in /usr/local/lib/python3.7/dist-packages (from matplotlib>=3.0.2->pingouin) (1.3.1)\n",
            "Requirement already satisfied: patsy>=0.4.0 in /usr/local/lib/python3.7/dist-packages (from statsmodels>=0.10.0->pingouin) (0.5.1)\n",
            "Requirement already satisfied: joblib>=0.11 in /usr/local/lib/python3.7/dist-packages (from scikit-learn->pingouin) (1.0.1)\n",
            "Requirement already satisfied: xarray in /usr/local/lib/python3.7/dist-packages (from pandas_flavor>=0.1.2->pingouin) (0.15.1)\n",
            "Requirement already satisfied: requests in /usr/local/lib/python3.7/dist-packages (from outdated->pingouin) (2.23.0)\n",
            "Collecting littleutils\n",
            "  Downloading https://files.pythonhosted.org/packages/4e/b1/bb4e06f010947d67349f863b6a2ad71577f85590180a935f60543f622652/littleutils-0.2.2.tar.gz\n",
            "Requirement already satisfied: six>=1.5 in /usr/local/lib/python3.7/dist-packages (from python-dateutil>=2.7.3->pandas>=0.24->pingouin) (1.15.0)\n",
            "Requirement already satisfied: setuptools>=41.2 in /usr/local/lib/python3.7/dist-packages (from xarray->pandas_flavor>=0.1.2->pingouin) (54.2.0)\n",
            "Requirement already satisfied: urllib3!=1.25.0,!=1.25.1,<1.26,>=1.21.1 in /usr/local/lib/python3.7/dist-packages (from requests->outdated->pingouin) (1.24.3)\n",
            "Requirement already satisfied: idna<3,>=2.5 in /usr/local/lib/python3.7/dist-packages (from requests->outdated->pingouin) (2.10)\n",
            "Requirement already satisfied: chardet<4,>=3.0.2 in /usr/local/lib/python3.7/dist-packages (from requests->outdated->pingouin) (3.0.4)\n",
            "Requirement already satisfied: certifi>=2017.4.17 in /usr/local/lib/python3.7/dist-packages (from requests->outdated->pingouin) (2020.12.5)\n",
            "Building wheels for collected packages: pingouin, littleutils\n",
            "  Building wheel for pingouin (setup.py) ... \u001b[?25l\u001b[?25hdone\n",
            "  Created wheel for pingouin: filename=pingouin-0.3.10-cp37-none-any.whl size=203396 sha256=2d5069d2ab65d0576310d28e7bc84c199566db565c2486fc44681ae24f6251da\n",
            "  Stored in directory: /root/.cache/pip/wheels/e6/f4/06/b5046209e6c0d96b4dea243c45e926b5c0dd88e23b01c45f92\n",
            "  Building wheel for littleutils (setup.py) ... \u001b[?25l\u001b[?25hdone\n",
            "  Created wheel for littleutils: filename=littleutils-0.2.2-cp37-none-any.whl size=7051 sha256=57f1cf824b93060a6180e8b447dda48b703179cad9ad4dcda34a3bf1e4f76de6\n",
            "  Stored in directory: /root/.cache/pip/wheels/53/16/9f/ac67d15c40243754fd73f620e1b9b6dedc20492ecc19a2bae1\n",
            "Successfully built pingouin littleutils\n",
            "Installing collected packages: pandas-flavor, littleutils, outdated, pingouin\n",
            "Successfully installed littleutils-0.2.2 outdated-0.2.1 pandas-flavor-0.2.0 pingouin-0.3.10\n"
          ],
          "name": "stdout"
        }
      ]
    },
    {
      "cell_type": "code",
      "metadata": {
        "id": "zZZLt5pdCfT3"
      },
      "source": [
        "#Executing the cell above, gspread will interact with the google sheets i choose.\n",
        "wb = gc.open_by_url('https://docs.google.com/spreadsheets/d/1__ZgEvVfi1h5CSKOZ6zTrQyEvGdHxXFeArn_Ej2jy4Y/edit#gid=1298731864')"
      ],
      "execution_count": 117,
      "outputs": []
    },
    {
      "cell_type": "code",
      "metadata": {
        "id": "4GDAEwHHCir_"
      },
      "source": [
        "#Executing this cell above, gspread will interact with the worksheet with data i need.\n",
        "sheet = wb.worksheet('Appendix A. Primary Standard Occupational Classifications (SOC)')"
      ],
      "execution_count": 118,
      "outputs": []
    },
    {
      "cell_type": "code",
      "metadata": {
        "id": "9g0T5vQnCoVn"
      },
      "source": [
        "#Getting All Values From a Row or a Column\n",
        "data = sheet.get_all_values()\n",
        "\n",
        "\n"
      ],
      "execution_count": 119,
      "outputs": []
    },
    {
      "cell_type": "code",
      "metadata": {
        "id": "yErMjiywIpW1"
      },
      "source": [
        "df = pd.DataFrame(data)\n",
        "df.columns = df.iloc[0]\n",
        "df = df.iloc[1:]"
      ],
      "execution_count": 120,
      "outputs": []
    },
    {
      "cell_type": "code",
      "metadata": {
        "colab": {
          "base_uri": "https://localhost:8080/"
        },
        "id": "CmzfH6LajJEf",
        "outputId": "7649dfe7-f052-46f5-d69d-71b6513fb3e4"
      },
      "source": [
        "#dimensions : nombre de lignes, nombre de colonnes\n",
        "#la ligne d'en-tête n'est pas comptabilisée\n",
        "#dans le nombre de lignes\n",
        "print(df.shape)"
      ],
      "execution_count": 121,
      "outputs": [
        {
          "output_type": "stream",
          "text": [
            "(538, 9)\n"
          ],
          "name": "stdout"
        }
      ]
    },
    {
      "cell_type": "code",
      "metadata": {
        "colab": {
          "base_uri": "https://localhost:8080/",
          "height": 402
        },
        "id": "AXXSlE6VJznr",
        "outputId": "d0abfc20-ae78-4edd-8bc3-6224ad13d6b3"
      },
      "source": [
        "#afficher les 538 lignes du jeu de données\n",
        "df.head(538)"
      ],
      "execution_count": 122,
      "outputs": [
        {
          "output_type": "execute_result",
          "data": {
            "text/html": [
              "<div>\n",
              "<style scoped>\n",
              "    .dataframe tbody tr th:only-of-type {\n",
              "        vertical-align: middle;\n",
              "    }\n",
              "\n",
              "    .dataframe tbody tr th {\n",
              "        vertical-align: top;\n",
              "    }\n",
              "\n",
              "    .dataframe thead th {\n",
              "        text-align: right;\n",
              "    }\n",
              "</style>\n",
              "<table border=\"1\" class=\"dataframe\">\n",
              "  <thead>\n",
              "    <tr style=\"text-align: right;\">\n",
              "      <th></th>\n",
              "      <th>Description</th>\n",
              "      <th>SOC</th>\n",
              "      <th>SOC DIVISION</th>\n",
              "      <th>Subjects</th>\n",
              "      <th>AM (uT)</th>\n",
              "      <th>SD (uT)</th>\n",
              "      <th>GM (uT)</th>\n",
              "      <th>GSD</th>\n",
              "      <th>Data Type</th>\n",
              "    </tr>\n",
              "  </thead>\n",
              "  <tbody>\n",
              "    <tr>\n",
              "      <th>1</th>\n",
              "      <td>legislators</td>\n",
              "      <td>1110</td>\n",
              "      <td>Executive, Administrative, and Managerial Occu...</td>\n",
              "      <td>15</td>\n",
              "      <td>0.180</td>\n",
              "      <td>0.061</td>\n",
              "      <td>0.039</td>\n",
              "      <td>1.39</td>\n",
              "      <td>Inferred</td>\n",
              "    </tr>\n",
              "    <tr>\n",
              "      <th>2</th>\n",
              "      <td>chief executives and general administrators</td>\n",
              "      <td>1120</td>\n",
              "      <td>Executive, Administrative, and Managerial Occu...</td>\n",
              "      <td>15</td>\n",
              "      <td>0.180</td>\n",
              "      <td>0.063</td>\n",
              "      <td>0.039</td>\n",
              "      <td>1.40</td>\n",
              "      <td>Raw</td>\n",
              "    </tr>\n",
              "    <tr>\n",
              "      <th>3</th>\n",
              "      <td>judicial, public safety and corrections admini...</td>\n",
              "      <td>1131</td>\n",
              "      <td>Executive, Administrative, and Managerial Occu...</td>\n",
              "      <td>15</td>\n",
              "      <td>0.180</td>\n",
              "      <td>0.061</td>\n",
              "      <td>0.039</td>\n",
              "      <td>1.39</td>\n",
              "      <td>Inferred</td>\n",
              "    </tr>\n",
              "    <tr>\n",
              "      <th>4</th>\n",
              "      <td>human resources program administrators</td>\n",
              "      <td>1132</td>\n",
              "      <td>Executive, Administrative, and Managerial Occu...</td>\n",
              "      <td>15</td>\n",
              "      <td>0.180</td>\n",
              "      <td>0.061</td>\n",
              "      <td>0.039</td>\n",
              "      <td>1.39</td>\n",
              "      <td>Inferred</td>\n",
              "    </tr>\n",
              "    <tr>\n",
              "      <th>5</th>\n",
              "      <td>natural resources program administrators</td>\n",
              "      <td>1133</td>\n",
              "      <td>Executive, Administrative, and Managerial Occu...</td>\n",
              "      <td>15</td>\n",
              "      <td>0.180</td>\n",
              "      <td>0.061</td>\n",
              "      <td>0.039</td>\n",
              "      <td>1.39</td>\n",
              "      <td>Inferred</td>\n",
              "    </tr>\n",
              "    <tr>\n",
              "      <th>...</th>\n",
              "      <td>...</td>\n",
              "      <td>...</td>\n",
              "      <td>...</td>\n",
              "      <td>...</td>\n",
              "      <td>...</td>\n",
              "      <td>...</td>\n",
              "      <td>...</td>\n",
              "      <td>...</td>\n",
              "      <td>...</td>\n",
              "    </tr>\n",
              "    <tr>\n",
              "      <th>534</th>\n",
              "      <td>garage and service station related occupations</td>\n",
              "      <td>8730</td>\n",
              "      <td>Handlers, Equipment Cleaners, Helpers, and Lab...</td>\n",
              "      <td>6</td>\n",
              "      <td>0.236</td>\n",
              "      <td>0.123</td>\n",
              "      <td>0.146</td>\n",
              "      <td>1.68</td>\n",
              "      <td>Raw</td>\n",
              "    </tr>\n",
              "    <tr>\n",
              "      <th>535</th>\n",
              "      <td>parking lot attendants</td>\n",
              "      <td>8740</td>\n",
              "      <td>Handlers, Equipment Cleaners, Helpers, and Lab...</td>\n",
              "      <td>6</td>\n",
              "      <td>0.236</td>\n",
              "      <td>0.112</td>\n",
              "      <td>0.146</td>\n",
              "      <td>1.60</td>\n",
              "      <td>Inferred</td>\n",
              "    </tr>\n",
              "    <tr>\n",
              "      <th>536</th>\n",
              "      <td>hand packers and packagers</td>\n",
              "      <td>8761</td>\n",
              "      <td>Handlers, Equipment Cleaners, Helpers, and Lab...</td>\n",
              "      <td>5</td>\n",
              "      <td>0.363</td>\n",
              "      <td>0.235</td>\n",
              "      <td>0.499</td>\n",
              "      <td>1.94</td>\n",
              "      <td>Raw</td>\n",
              "    </tr>\n",
              "    <tr>\n",
              "      <th>537</th>\n",
              "      <td>manual occupations, not elsewhere classified</td>\n",
              "      <td>8769</td>\n",
              "      <td>Handlers, Equipment Cleaners, Helpers, and Lab...</td>\n",
              "      <td>5</td>\n",
              "      <td>0.360</td>\n",
              "      <td>0.433</td>\n",
              "      <td>1.879</td>\n",
              "      <td>2.58</td>\n",
              "      <td>Raw</td>\n",
              "    </tr>\n",
              "    <tr>\n",
              "      <th>538</th>\n",
              "      <td>military occupations</td>\n",
              "      <td>9100</td>\n",
              "      <td>Military Occupations</td>\n",
              "      <td>4</td>\n",
              "      <td>0.170</td>\n",
              "      <td>0.061</td>\n",
              "      <td>0.037</td>\n",
              "      <td>1.42</td>\n",
              "      <td>Raw</td>\n",
              "    </tr>\n",
              "  </tbody>\n",
              "</table>\n",
              "<p>538 rows × 9 columns</p>\n",
              "</div>"
            ],
            "text/plain": [
              "0                                          Description   SOC  ...   GSD Data Type\n",
              "1                                          legislators  1110  ...  1.39  Inferred\n",
              "2          chief executives and general administrators  1120  ...  1.40       Raw\n",
              "3    judicial, public safety and corrections admini...  1131  ...  1.39  Inferred\n",
              "4               human resources program administrators  1132  ...  1.39  Inferred\n",
              "5             natural resources program administrators  1133  ...  1.39  Inferred\n",
              "..                                                 ...   ...  ...   ...       ...\n",
              "534     garage and service station related occupations  8730  ...  1.68       Raw\n",
              "535                             parking lot attendants  8740  ...  1.60  Inferred\n",
              "536                         hand packers and packagers  8761  ...  1.94       Raw\n",
              "537       manual occupations, not elsewhere classified  8769  ...  2.58       Raw\n",
              "538                               military occupations  9100  ...  1.42       Raw\n",
              "\n",
              "[538 rows x 9 columns]"
            ]
          },
          "metadata": {
            "tags": []
          },
          "execution_count": 122
        }
      ]
    },
    {
      "cell_type": "markdown",
      "metadata": {
        "id": "jPUnWlpEWoJq"
      },
      "source": [
        "**NETTOYAGE DE DONNÉES**"
      ]
    },
    {
      "cell_type": "code",
      "metadata": {
        "id": "wOjJuelyZMXd"
      },
      "source": [
        "#Quels sont les types de données attendus (int, float, string, boolean)?\n",
        "df['Description'] = df['Description'].astype(str)\n",
        "df['SOC'] = df['SOC'].astype(str)\n",
        "df['SOC DIVISION'] = df['SOC DIVISION'].astype(str)\n",
        "df['Subjects'] = df['Subjects'].astype(int)\n",
        "df['AM (uT)'] = df['AM (uT)'].astype(float)\n",
        "df['SD (uT)'] = df['SD (uT)'].astype(float)\n",
        "df['GM (uT)'] = df['GM (uT)'].astype(float)\n",
        "df['GSD'] = df['GSD'].astype(float)\n",
        "df['Data Type'] = df['Data Type'].astype(str)"
      ],
      "execution_count": 123,
      "outputs": []
    },
    {
      "cell_type": "code",
      "metadata": {
        "id": "uTKJqB4PWtUZ",
        "colab": {
          "base_uri": "https://localhost:8080/"
        },
        "outputId": "a3553dcb-c9ae-4fb7-8b60-ff35eac5d415"
      },
      "source": [
        "#Quelles sont les caractéristiques?\n",
        "#énumération des colonnes\n",
        "print(df.columns)\n",
        "#type de chaque colonne\n",
        "print(df.dtypes)\n",
        "\n"
      ],
      "execution_count": 124,
      "outputs": [
        {
          "output_type": "stream",
          "text": [
            "Index(['Description', 'SOC', 'SOC DIVISION', 'Subjects', 'AM (uT)', 'SD (uT)',\n",
            "       'GM (uT)', 'GSD', 'Data Type'],\n",
            "      dtype='object', name=0)\n",
            "0\n",
            "Description      object\n",
            "SOC              object\n",
            "SOC DIVISION     object\n",
            "Subjects          int64\n",
            "AM (uT)         float64\n",
            "SD (uT)         float64\n",
            "GM (uT)         float64\n",
            "GSD             float64\n",
            "Data Type        object\n",
            "dtype: object\n"
          ],
          "name": "stdout"
        }
      ]
    },
    {
      "cell_type": "code",
      "metadata": {
        "colab": {
          "base_uri": "https://localhost:8080/"
        },
        "id": "0y48I3iDZR-Z",
        "outputId": "90cba7db-dcee-4390-9236-13f86da99727"
      },
      "source": [
        "#Y a-t-il des valeurs manquantes évidentes (valeurs que la bibliothèque pandas peut détecter) via informations sur les données\n",
        "# Affichage de la colonne ST_NUM\n",
        "print(df['SOC DIVISION'])# Affichage des valeurs nulles\n",
        "print(df['SOC DIVISION'].isnull())\n",
        "#informations sur les données\n",
        "df.info()"
      ],
      "execution_count": 126,
      "outputs": [
        {
          "output_type": "stream",
          "text": [
            "1      Executive, Administrative, and Managerial Occu...\n",
            "2      Executive, Administrative, and Managerial Occu...\n",
            "3      Executive, Administrative, and Managerial Occu...\n",
            "4      Executive, Administrative, and Managerial Occu...\n",
            "5      Executive, Administrative, and Managerial Occu...\n",
            "                             ...                        \n",
            "534    Handlers, Equipment Cleaners, Helpers, and Lab...\n",
            "535    Handlers, Equipment Cleaners, Helpers, and Lab...\n",
            "536    Handlers, Equipment Cleaners, Helpers, and Lab...\n",
            "537    Handlers, Equipment Cleaners, Helpers, and Lab...\n",
            "538                                 Military Occupations\n",
            "Name: SOC DIVISION, Length: 538, dtype: object\n",
            "1      False\n",
            "2      False\n",
            "3      False\n",
            "4      False\n",
            "5      False\n",
            "       ...  \n",
            "534    False\n",
            "535    False\n",
            "536    False\n",
            "537    False\n",
            "538    False\n",
            "Name: SOC DIVISION, Length: 538, dtype: bool\n",
            "<class 'pandas.core.frame.DataFrame'>\n",
            "RangeIndex: 538 entries, 1 to 538\n",
            "Data columns (total 9 columns):\n",
            " #   Column        Non-Null Count  Dtype  \n",
            "---  ------        --------------  -----  \n",
            " 0   Description   538 non-null    object \n",
            " 1   SOC           538 non-null    object \n",
            " 2   SOC DIVISION  538 non-null    object \n",
            " 3   Subjects      538 non-null    int64  \n",
            " 4   AM (uT)       538 non-null    float64\n",
            " 5   SD (uT)       538 non-null    float64\n",
            " 6   GM (uT)       538 non-null    float64\n",
            " 7   GSD           538 non-null    float64\n",
            " 8   Data Type     538 non-null    object \n",
            "dtypes: float64(4), int64(1), object(4)\n",
            "memory usage: 38.0+ KB\n"
          ],
          "name": "stdout"
        }
      ]
    },
    {
      "cell_type": "markdown",
      "metadata": {
        "id": "Kx2pb_IOp3mO"
      },
      "source": [
        "**MANIPULATIONS DE DONNÉES**"
      ]
    },
    {
      "cell_type": "code",
      "metadata": {
        "colab": {
          "base_uri": "https://localhost:8080/"
        },
        "id": "RDGelA6BoIEV",
        "outputId": "cd81eb20-f635-4f8c-dfa0-78a7fffe56ef"
      },
      "source": [
        "#Quelles sont les divisions SOC (Classification professionnelle standard), et combien y en a-t-il d'occupations dans chaque division?\n",
        "#comptage des valeurs\n",
        "print(df['SOC DIVISION'].value_counts())"
      ],
      "execution_count": 127,
      "outputs": [
        {
          "output_type": "stream",
          "text": [
            "Production Working Occupations                                                       75\n",
            "Administrative Support Occupations, Including Clerical                               58\n",
            "Executive, Administrative, and Managerial Occupations                                43\n",
            "Marketing and Sales Occupations                                                      42\n",
            "Service Occupations                                                                  36\n",
            "Teachers, Librarians and Counselors                                                  36\n",
            "Precision Production Occupations                                                     31\n",
            "Construction and Extractive Occupations                                              29\n",
            "Mechanics and Repairers                                                              27\n",
            "Handlers, Equipment Cleaners, Helpers, and Laborers                                  27\n",
            "Agricultural, Forestry, and Fishing Occupations                                      23\n",
            "Engineers, Surveyors, and Architects                                                 18\n",
            "Transportation and Material Moving Occupations                                       17\n",
            "Technologists and Technicians, Except Health                                         17\n",
            "Natural Scientist and Mathematicians                                                 15\n",
            "Social Scientists, Social Workers Religious Workers, and Lawyers                     13\n",
            "Writers, Artist, Entertainers, and Athletes                                          11\n",
            "Registered Nurses, Pharmacists, Dietitians, Therapist, and Physician’s Assistants     8\n",
            "Health Technologists and Technicians                                                  6\n",
            "Health Diagnosing and Treating Practitioners                                          5\n",
            "Military Occupations                                                                  1\n",
            "Name: SOC DIVISION, dtype: int64\n"
          ],
          "name": "stdout"
        }
      ]
    },
    {
      "cell_type": "code",
      "metadata": {
        "colab": {
          "base_uri": "https://localhost:8080/"
        },
        "id": "0pFhjogkqMVR",
        "outputId": "0a810e5c-7dca-48e0-d4fd-3c5bd3674113"
      },
      "source": [
        "# imprime le nom de la colonne\n",
        "for x in df:\n",
        "  print(x) \n"
      ],
      "execution_count": 128,
      "outputs": [
        {
          "output_type": "stream",
          "text": [
            "Description\n",
            "SOC\n",
            "SOC DIVISION\n",
            "Subjects\n",
            "AM (uT)\n",
            "SD (uT)\n",
            "GM (uT)\n",
            "GSD\n",
            "Data Type\n"
          ],
          "name": "stdout"
        }
      ]
    },
    {
      "cell_type": "code",
      "metadata": {
        "colab": {
          "base_uri": "https://localhost:8080/"
        },
        "id": "0yTct7Njqh00",
        "outputId": "5f40cedf-cf5a-4f04-f366-4168ae6db159"
      },
      "source": [
        "#accès à une colonne\n",
        "print(df['SOC DIVISION'])"
      ],
      "execution_count": 129,
      "outputs": [
        {
          "output_type": "stream",
          "text": [
            "1      Executive, Administrative, and Managerial Occu...\n",
            "2      Executive, Administrative, and Managerial Occu...\n",
            "3      Executive, Administrative, and Managerial Occu...\n",
            "4      Executive, Administrative, and Managerial Occu...\n",
            "5      Executive, Administrative, and Managerial Occu...\n",
            "                             ...                        \n",
            "534    Handlers, Equipment Cleaners, Helpers, and Lab...\n",
            "535    Handlers, Equipment Cleaners, Helpers, and Lab...\n",
            "536    Handlers, Equipment Cleaners, Helpers, and Lab...\n",
            "537    Handlers, Equipment Cleaners, Helpers, and Lab...\n",
            "538                                 Military Occupations\n",
            "Name: SOC DIVISION, Length: 538, dtype: object\n"
          ],
          "name": "stdout"
        }
      ]
    },
    {
      "cell_type": "code",
      "metadata": {
        "colab": {
          "base_uri": "https://localhost:8080/"
        },
        "id": "q37RGQkKxmAV",
        "outputId": "61621935-2cdf-49e4-b5ec-5e4e5c5b8169"
      },
      "source": [
        "#un type Series est un vecteur, il est possible d'utiliser des indices\n",
        "#3 premières valeurs\n",
        "print(df['SOC DIVISION'][0:3])"
      ],
      "execution_count": 130,
      "outputs": [
        {
          "output_type": "stream",
          "text": [
            "1    Executive, Administrative, and Managerial Occu...\n",
            "2    Executive, Administrative, and Managerial Occu...\n",
            "3    Executive, Administrative, and Managerial Occu...\n",
            "Name: SOC DIVISION, dtype: object\n"
          ],
          "name": "stdout"
        }
      ]
    },
    {
      "cell_type": "code",
      "metadata": {
        "colab": {
          "base_uri": "https://localhost:8080/"
        },
        "id": "CqoIEeijx3B9",
        "outputId": "65d0ebaa-f322-4940-a3f5-26e749b61fda"
      },
      "source": [
        "#trier les valeurs d'une variable de manière croissante\n",
        "print(df['GM (uT)'].sort_values())"
      ],
      "execution_count": 131,
      "outputs": [
        {
          "output_type": "stream",
          "text": [
            "89        0.000\n",
            "243       0.000\n",
            "241       0.000\n",
            "238       0.000\n",
            "236       0.000\n",
            "         ...   \n",
            "391     211.083\n",
            "382     211.083\n",
            "383     211.083\n",
            "331     593.403\n",
            "371    1147.146\n",
            "Name: GM (uT), Length: 538, dtype: float64\n"
          ],
          "name": "stdout"
        }
      ]
    },
    {
      "cell_type": "markdown",
      "metadata": {
        "id": "O-wYRRr9djFh"
      },
      "source": [
        "**IF CONDITION**\n",
        "\n",
        "\n"
      ]
    },
    {
      "cell_type": "markdown",
      "metadata": {
        "id": "qPzLSHVI5e1U"
      },
      "source": [
        ""
      ]
    },
    {
      "cell_type": "code",
      "metadata": {
        "colab": {
          "base_uri": "https://localhost:8080/",
          "height": 106
        },
        "id": "0_AzKngyxZQ1",
        "outputId": "67148a1e-4bfe-46a9-d78a-fd7acbc3d4c0"
      },
      "source": [
        "#Accès au ligne selon une condition\n",
        "df[df['GM (uT)'] > 500]"
      ],
      "execution_count": 132,
      "outputs": [
        {
          "output_type": "execute_result",
          "data": {
            "text/html": [
              "<div>\n",
              "<style scoped>\n",
              "    .dataframe tbody tr th:only-of-type {\n",
              "        vertical-align: middle;\n",
              "    }\n",
              "\n",
              "    .dataframe tbody tr th {\n",
              "        vertical-align: top;\n",
              "    }\n",
              "\n",
              "    .dataframe thead th {\n",
              "        text-align: right;\n",
              "    }\n",
              "</style>\n",
              "<table border=\"1\" class=\"dataframe\">\n",
              "  <thead>\n",
              "    <tr style=\"text-align: right;\">\n",
              "      <th></th>\n",
              "      <th>Description</th>\n",
              "      <th>SOC</th>\n",
              "      <th>SOC DIVISION</th>\n",
              "      <th>Subjects</th>\n",
              "      <th>AM (uT)</th>\n",
              "      <th>SD (uT)</th>\n",
              "      <th>GM (uT)</th>\n",
              "      <th>GSD</th>\n",
              "      <th>Data Type</th>\n",
              "    </tr>\n",
              "  </thead>\n",
              "  <tbody>\n",
              "    <tr>\n",
              "      <th>331</th>\n",
              "      <td>timber cutting and related occupations</td>\n",
              "      <td>5730</td>\n",
              "      <td>Agricultural, Forestry, and Fishing Occupations</td>\n",
              "      <td>9</td>\n",
              "      <td>2.480</td>\n",
              "      <td>7.703</td>\n",
              "      <td>593.403</td>\n",
              "      <td>4.66</td>\n",
              "      <td>Raw</td>\n",
              "    </tr>\n",
              "    <tr>\n",
              "      <th>371</th>\n",
              "      <td>electrical power installers and repairers</td>\n",
              "      <td>6433</td>\n",
              "      <td>Construction and Extractive Occupations</td>\n",
              "      <td>156</td>\n",
              "      <td>3.474</td>\n",
              "      <td>10.731</td>\n",
              "      <td>1147.146</td>\n",
              "      <td>4.34</td>\n",
              "      <td>Raw</td>\n",
              "    </tr>\n",
              "  </tbody>\n",
              "</table>\n",
              "</div>"
            ],
            "text/plain": [
              "0                                  Description   SOC  ...   GSD  Data Type\n",
              "331     timber cutting and related occupations  5730  ...  4.66        Raw\n",
              "371  electrical power installers and repairers  6433  ...  4.34        Raw\n",
              "\n",
              "[2 rows x 9 columns]"
            ]
          },
          "metadata": {
            "tags": []
          },
          "execution_count": 132
        }
      ]
    },
    {
      "cell_type": "markdown",
      "metadata": {
        "id": "LqGVK8YcPGX8"
      },
      "source": [
        "**VISUALISATION avec API MATPLOTLIB:**\n",
        "\n",
        "Défi semaine 5: CRÉER DEUX FIGURES Comment mes données sont-elles distribuées ? Mon jeu de données contient-ils des points aberrants ? Quelles sont les variations dans la dispersion de plusieurs séries au sein du jeu de données ? Aussi, visuellement, vérifiez rapidement l'inégalité des moyennes arithmétique et géométrique (Inégalité de Jensen)"
      ]
    },
    {
      "cell_type": "code",
      "metadata": {
        "colab": {
          "base_uri": "https://localhost:8080/",
          "height": 300
        },
        "id": "hBQAlutjF3ZG",
        "outputId": "4bb125d6-75c3-4e78-cb49-1b8f768b2e13"
      },
      "source": [
        "#comparaison des distributions de la moyenne Géométrique de l'exposition moyenne quotidienne à un champs mganétique ( en micro Tesla (uT)) par Division de l'emploi professionnel avec un boxplot, quelles sont les valeurs aberrantes?\n",
        "%matplotlib inline\n",
        "df.plot.scatter(x = 'AM (uT)', y = 'GM (uT)')\n",
        "\n"
      ],
      "execution_count": 133,
      "outputs": [
        {
          "output_type": "execute_result",
          "data": {
            "text/plain": [
              "<matplotlib.axes._subplots.AxesSubplot at 0x7f8ca5600ad0>"
            ]
          },
          "metadata": {
            "tags": []
          },
          "execution_count": 133
        },
        {
          "output_type": "display_data",
          "data": {
            "image/png": "[encoded data removed]",
            "text/plain": [
              "<Figure size 432x288 with 1 Axes>"
            ]
          },
          "metadata": {
            "tags": [],
            "needs_background": "light"
          }
        }
      ]
    },
    {
      "cell_type": "code",
      "metadata": {
        "colab": {
          "base_uri": "https://localhost:8080/",
          "height": 286
        },
        "id": "9enyToltMILg",
        "outputId": "866e5940-b48b-4733-a5c4-6ea3c99fc03d"
      },
      "source": [
        "#comparaison des distributions de la moyenne Géométrique de l'exposition moyenne quotidienne à un champs mganétique ( en micro Tesla (uT))et de la moyenne arithmétique de l'exposition moyenne quotidienne à un champs magnétique de la population de l'ensemble des 538 occupations,  avec un boxplot, quelle moyenne utiliser  AM(uT) ou GM(uT)?\n",
        "#MultipleBoxplot\n",
        "# Creating plot\n",
        "df.boxplot()\n",
        "\n",
        "\n",
        "\n",
        "\n",
        "\n",
        "\n",
        "\n"
      ],
      "execution_count": 141,
      "outputs": [
        {
          "output_type": "execute_result",
          "data": {
            "text/plain": [
              "<matplotlib.axes._subplots.AxesSubplot at 0x7f8ca5042190>"
            ]
          },
          "metadata": {
            "tags": []
          },
          "execution_count": 141
        },
        {
          "output_type": "display_data",
          "data": {
            "image/png": "[encoded data removed]",
            "text/plain": [
              "<Figure size 432x288 with 1 Axes>"
            ]
          },
          "metadata": {
            "tags": [],
            "needs_background": "light"
          }
        }
      ]
    },
    {
      "cell_type": "markdown",
      "metadata": {
        "id": "GLxrSCifWngm"
      },
      "source": [
        "*Le Box plot nous montre les distributions, entre autres, des moyennes artimétique et moyenne géométrique. La moyenne GM (uT) contient beaucoup plus de valeurs aberrantes.*\n",
        "\n"
      ]
    },
    {
      "cell_type": "markdown",
      "metadata": {
        "id": "0FYTaG9oBMS2"
      },
      "source": [
        "STATISTIQUES"
      ]
    },
    {
      "cell_type": "markdown",
      "metadata": {
        "id": "6gtmNk1aU3cu"
      },
      "source": [
        "**1) Générer des statistiques descriptives**\n",
        "\n",
        "*Les indicateurs statistiques choisis ne sont valables que pour les variables numérique donc j'ai exclus toutes les collonnes ayant des données de type objet "
      ]
    },
    {
      "cell_type": "code",
      "metadata": {
        "colab": {
          "base_uri": "https://localhost:8080/"
        },
        "id": "gK_pmgIZBSvX",
        "outputId": "c1adeeaf-5867-4008-e7e1-dfcb96cd37f5"
      },
      "source": [
        "#description des données de toutes les colonnes saufs celles exclues\n",
        "print(df.describe(exclude='object'))\n"
      ],
      "execution_count": 135,
      "outputs": [
        {
          "output_type": "stream",
          "text": [
            "0        Subjects     AM (uT)     SD (uT)      GM (uT)         GSD\n",
            "count  538.000000  538.000000  538.000000   538.000000  538.000000\n",
            "mean    16.769517    0.275225    0.305770     6.868658    1.932546\n",
            "std     20.286928    0.324072    0.769217    58.907171    0.705455\n",
            "min      1.000000    0.049000    0.000000     0.000000    1.000000\n",
            "25%      4.250000    0.131250    0.060000     0.013000    1.490000\n",
            "50%      9.000000    0.200000    0.112500     0.075000    1.790000\n",
            "75%     24.000000    0.270000    0.268000     0.726000    2.240000\n",
            "max    192.000000    3.474000   10.731000  1147.146000    5.150000\n"
          ],
          "name": "stdout"
        }
      ]
    },
    {
      "cell_type": "code",
      "metadata": {
        "colab": {
          "base_uri": "https://localhost:8080/"
        },
        "id": "1r6dae4lu_sb",
        "outputId": "03f5448b-cb05-4c30-980c-147b55fc73d0"
      },
      "source": [
        "#statistique descriptive pour une seule colonne\n",
        "print(df['GM (uT)'].describe())"
      ],
      "execution_count": 138,
      "outputs": [
        {
          "output_type": "stream",
          "text": [
            "count     538.000000\n",
            "mean        6.868658\n",
            "std        58.907171\n",
            "min         0.000000\n",
            "25%         0.013000\n",
            "50%         0.075000\n",
            "75%         0.726000\n",
            "max      1147.146000\n",
            "Name: GM (uT), dtype: float64\n"
          ],
          "name": "stdout"
        }
      ]
    },
    {
      "cell_type": "markdown",
      "metadata": {
        "id": "sXZdz7dYdNUi"
      },
      "source": [
        ""
      ]
    },
    {
      "cell_type": "code",
      "metadata": {
        "colab": {
          "base_uri": "https://localhost:8080/"
        },
        "id": "88_BUDblYRqb",
        "outputId": "31c8daab-57cc-4ba8-ef1f-9dd2374ce3b1"
      },
      "source": [
        "#statistique descriptive pour une seule colonne\n",
        "print(df['AM (uT)'].describe())"
      ],
      "execution_count": 139,
      "outputs": [
        {
          "output_type": "stream",
          "text": [
            "count    538.000000\n",
            "mean       0.275225\n",
            "std        0.324072\n",
            "min        0.049000\n",
            "25%        0.131250\n",
            "50%        0.200000\n",
            "75%        0.270000\n",
            "max        3.474000\n",
            "Name: AM (uT), dtype: float64\n"
          ],
          "name": "stdout"
        }
      ]
    },
    {
      "cell_type": "code",
      "metadata": {
        "colab": {
          "base_uri": "https://localhost:8080/"
        },
        "id": "8SxkmOnUwk2g",
        "outputId": "a7cc98ea-4138-495f-aab7-4771589d84c2"
      },
      "source": [
        "#calculer explicitement la moyenne\n",
        "print(df['GM (uT)'].mean())"
      ],
      "execution_count": 140,
      "outputs": [
        {
          "output_type": "stream",
          "text": [
            "6.8686579925650575\n"
          ],
          "name": "stdout"
        }
      ]
    },
    {
      "cell_type": "markdown",
      "metadata": {
        "id": "nbcDlEJWs4Mw"
      },
      "source": [
        "*La statistique descriptive nous montre que la médiane de AM (uT) est plus grande la GM (uT). Ce qui est normal et confirme que nous allons utiliser la moyenne géométrique pour faire le suivi de l'exposition moyenne quotidienne à un champs magnétique en micro Tesla (uT) d'un employé dans un milieu de travail exposé aux champs électromagnétiques à fréquences industrielles (Différents milieux industriels) Les valeurs extrêmes font augmenter la moyenne de GM (uT)*\n"
      ]
    },
    {
      "cell_type": "markdown",
      "metadata": {
        "id": "3QEdAM4QF0aL"
      },
      "source": [
        "**2) Le nom du Test :\n"
      ]
    },
    {
      "cell_type": "markdown",
      "metadata": {
        "id": "d2hZBQ1XF_ab"
      },
      "source": [
        "**3) Qu'est-ce que le test vérifie?**\n",
        "\n",
        "Le test de Shapiro-Wilk est un test permettant de savoir si une série de données suit une loi normale.-Wiki"
      ]
    },
    {
      "cell_type": "code",
      "metadata": {
        "id": "X-87CxjFPYW3"
      },
      "source": [
        "#Les principales hypothèses du test--- Hypothèse nulle : l'échantillon suit une loi normale. \n",
        "\n",
        "\n"
      ],
      "execution_count": 144,
      "outputs": []
    },
    {
      "cell_type": "markdown",
      "metadata": {
        "id": "LskW-9Vu4OeL"
      },
      "source": [
        "Comment les résultats du test sont interprétés?  Si la p-value du test est significative, l'échantillon ne suit pas une loi normale\n",
        "\n",
        "p <= alpha : rejeter H0, pas normal.\n",
        "p> alpha : échec de rejeter H0, normal."
      ]
    },
    {
      "cell_type": "code",
      "metadata": {
        "id": "fX5e3-okPvNN"
      },
      "source": [
        "#API Python pour l'utilisation du test"
      ],
      "execution_count": null,
      "outputs": []
    },
    {
      "cell_type": "markdown",
      "metadata": {
        "id": "I9dkFErT5_Vt"
      },
      "source": [
        "4) TEST STATISTIQUE: HYPOTHÈSE DE NORMALITÉ"
      ]
    },
    {
      "cell_type": "code",
      "metadata": {
        "id": "KJozJJieCxTP",
        "outputId": "7ec49871-5c30-4a61-d1e8-4b396204a005",
        "colab": {
          "base_uri": "https://localhost:8080/",
          "height": 128
        }
      },
      "source": [
        "from scipy.stats import *\n",
        "import numpy as np\n",
        "\n",
        "y=np.array('AM (uT)'])\n",
        "x=np.array(['GM (uT)'])\n",
        "\n",
        "p = ranksums(x,y)\n",
        "print (p)\n",
        "\n"
      ],
      "execution_count": 183,
      "outputs": [
        {
          "output_type": "error",
          "ename": "SyntaxError",
          "evalue": "ignored",
          "traceback": [
            "\u001b[0;36m  File \u001b[0;32m\"<ipython-input-183-a1662ad00503>\"\u001b[0;36m, line \u001b[0;32m4\u001b[0m\n\u001b[0;31m    y=np.array('AM (uT)'])\u001b[0m\n\u001b[0m                        ^\u001b[0m\n\u001b[0;31mSyntaxError\u001b[0m\u001b[0;31m:\u001b[0m invalid syntax\n"
          ]
        }
      ]
    }
  ]
}